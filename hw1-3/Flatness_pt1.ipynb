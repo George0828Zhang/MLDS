{
 "cells": [
  {
   "cell_type": "code",
   "execution_count": 1,
   "metadata": {},
   "outputs": [
    {
     "name": "stdout",
     "output_type": "stream",
     "text": [
      "WARNING:tensorflow:From /home/flyingkomodo/.local/lib/python3.6/site-packages/tensorflow/python/ops/resource_variable_ops.py:435: colocate_with (from tensorflow.python.framework.ops) is deprecated and will be removed in a future version.\n",
      "Instructions for updating:\n",
      "Colocations handled automatically by placer.\n",
      "WARNING:tensorflow:From /home/flyingkomodo/.local/lib/python3.6/site-packages/tensorflow/python/keras/layers/core.py:143: calling dropout (from tensorflow.python.ops.nn_ops) with keep_prob is deprecated and will be removed in a future version.\n",
      "Instructions for updating:\n",
      "Please use `rate` instead of `keep_prob`. Rate should be set to `rate = 1 - keep_prob`.\n"
     ]
    }
   ],
   "source": [
    "import tensorflow as tf\n",
    "from tensorflow.keras.models import clone_model\n",
    "import matplotlib.pyplot as plt\n",
    "import numpy as np\n",
    "\n",
    "mnist = tf.keras.datasets.mnist\n",
    "\n",
    "(x_train, y_train),(x_test, y_test) = mnist.load_data()\n",
    "x_train, x_test = x_train / 255.0, x_test / 255.0\n",
    "\n",
    "model1 = tf.keras.models.Sequential([\n",
    "  tf.keras.layers.Flatten(input_shape=(28, 28)),\n",
    "  tf.keras.layers.Dense(512, activation=tf.nn.relu),\n",
    "  tf.keras.layers.Dropout(0.2),\n",
    "  tf.keras.layers.Dense(10, activation=tf.nn.softmax)\n",
    "])"
   ]
  },
  {
   "cell_type": "code",
   "execution_count": null,
   "metadata": {},
   "outputs": [
    {
     "name": "stdout",
     "output_type": "stream",
     "text": [
      "Epoch 1/10\n",
      "60000/60000 [==============================] - 5s 91us/sample - loss: 0.6293 - acc: 0.8399\n",
      "Epoch 2/10\n",
      "60000/60000 [==============================] - 5s 82us/sample - loss: 0.3396 - acc: 0.9045\n",
      "Epoch 3/10\n",
      "60000/60000 [==============================] - 5s 81us/sample - loss: 0.2868 - acc: 0.9188\n",
      "Epoch 4/10\n",
      "60000/60000 [==============================] - 5s 81us/sample - loss: 0.2536 - acc: 0.9287\n",
      "Epoch 5/10\n",
      "60000/60000 [==============================] - 5s 86us/sample - loss: 0.2298 - acc: 0.9363\n",
      "Epoch 6/10\n",
      "60000/60000 [==============================] - 5s 88us/sample - loss: 0.2091 - acc: 0.9409\n",
      "Epoch 7/10\n",
      "60000/60000 [==============================] - 5s 88us/sample - loss: 0.1933 - acc: 0.9452\n",
      "Epoch 8/10\n",
      "60000/60000 [==============================] - 5s 82us/sample - loss: 0.1799 - acc: 0.9492\n",
      "Epoch 9/10\n",
      "60000/60000 [==============================] - 5s 83us/sample - loss: 0.1679 - acc: 0.9531\n",
      "Epoch 10/10\n",
      "60000/60000 [==============================] - 5s 86us/sample - loss: 0.1579 - acc: 0.9552\n",
      "Epoch 1/10\n",
      "60000/60000 [==============================] - 1s 19us/sample - loss: 1.4463 - acc: 0.6533\n",
      "Epoch 2/10\n",
      "60000/60000 [==============================] - 1s 16us/sample - loss: 0.7653 - acc: 0.8256\n",
      "Epoch 3/10\n",
      "60000/60000 [==============================] - 1s 18us/sample - loss: 0.5853 - acc: 0.8540\n",
      "Epoch 4/10\n",
      "60000/60000 [==============================] - 1s 16us/sample - loss: 0.5052 - acc: 0.8674\n",
      "Epoch 5/10\n",
      "60000/60000 [==============================] - 1s 16us/sample - loss: 0.4583 - acc: 0.8773\n",
      "Epoch 6/10\n",
      "60000/60000 [==============================] - 1s 19us/sample - loss: 0.4267 - acc: 0.8835\n",
      "Epoch 7/10\n",
      " 8192/60000 [===>..........................] - ETA: 1s - loss: 0.4121 - acc: 0.8822"
     ]
    }
   ],
   "source": [
    "# Trial 1 batchsize 32 vs 256\n",
    "epochs = 10\n",
    "\n",
    "model1.compile(optimizer='sgd', loss='sparse_categorical_crossentropy', metrics=['accuracy'])\n",
    "model1.fit(x_train, y_train, epochs=epochs, batch_size=32)\n",
    "\n",
    "model2 = clone_model(model1)\n",
    "model2.compile(optimizer='sgd', loss='sparse_categorical_crossentropy', metrics=['accuracy'])\n",
    "model2.fit(x_train, y_train, epochs=epochs, batch_size=256)\n"
   ]
  },
  {
   "cell_type": "code",
   "execution_count": null,
   "metadata": {},
   "outputs": [],
   "source": []
  },
  {
   "cell_type": "code",
   "execution_count": null,
   "metadata": {},
   "outputs": [],
   "source": [
    "\n",
    "weights1 = model1.get_weights()\n",
    "weights2 = model2.get_weights()\n",
    "pmodel = clone_model(model1)\n",
    "pmodel.compile(optimizer=model1.optimizer, loss=model1.loss)\n",
    "\n",
    "\n",
    "# structure: [alpha, train_loss, train_acc, test_loss, test_acc]\n",
    "results = []\n",
    "\n",
    "for i in range(-100, 201):\n",
    "    alpha = i*0.01\n",
    "    weights3 = [ (1-alpha)*t1 + alpha*t2 for t1, t2 in zip(weights1, weights2) ]\n",
    "    pmodel.set_weights(weights3)\n",
    "    train_loss, train_acc = pmodel.evaluate(x=x_train, y=y_train, verbose=0, batch_size=256)\n",
    "    test_loss, test_acc = pmodel.evaluate(x=x_test, y=y_test, verbose=0, batch_size=256)\n",
    "    results.append([alpha, train_loss, train_acc, test_loss, test_acc])\n",
    "    \n",
    "results = np.asarray(results)"
   ]
  },
  {
   "cell_type": "code",
   "execution_count": null,
   "metadata": {},
   "outputs": [],
   "source": [
    "import matplotlib.pyplot as plt\n",
    "# fig, ax1 = plt.subplots()\n",
    "\n",
    "# plots the training loss\n",
    "plt.plot(results[:,0], results[:,1])\n",
    "# plots the testing loss\n",
    "plt.plot(results[:,0], results[:,3], fmt=':')\n",
    "\n",
    "plt.twinx()\n",
    "# plots the training accu\n",
    "plt.plot(results[:,0], results[:,2])\n",
    "# plots the testing acc\n",
    "plt.plot(results[:,0], results[:,4], fmt=':')\n",
    "plt.xlabel('alpha')\n",
    "plt.ylabel('alpha')"
   ]
  },
  {
   "cell_type": "code",
   "execution_count": null,
   "metadata": {},
   "outputs": [],
   "source": []
  }
 ],
 "metadata": {
  "kernelspec": {
   "display_name": "Python 3",
   "language": "python",
   "name": "python3"
  },
  "language_info": {
   "codemirror_mode": {
    "name": "ipython",
    "version": 3
   },
   "file_extension": ".py",
   "mimetype": "text/x-python",
   "name": "python",
   "nbconvert_exporter": "python",
   "pygments_lexer": "ipython3",
   "version": "3.6.8"
  }
 },
 "nbformat": 4,
 "nbformat_minor": 2
}
