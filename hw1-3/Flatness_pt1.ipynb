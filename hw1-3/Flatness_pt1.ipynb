{
 "cells": [
  {
   "cell_type": "code",
   "execution_count": null,
   "metadata": {},
   "outputs": [],
   "source": [
    "import tensorflow as tf\n",
    "from tensorflow.keras.models import clone_model\n",
    "from tensorflow.keras.callbacks import EarlyStopping\n",
    "import matplotlib.pyplot as plt\n",
    "import numpy as np\n",
    "\n",
    "mnist = tf.keras.datasets.mnist\n",
    "\n",
    "(x_train, y_train),(x_test, y_test) = mnist.load_data()\n",
    "x_train, x_test = x_train / 255.0, x_test / 255.0\n",
    "\n",
    "model1 = tf.keras.models.Sequential([\n",
    "  tf.keras.layers.Flatten(input_shape=(28, 28)),\n",
    "  tf.keras.layers.Dense(512, activation=tf.nn.relu),\n",
    "  tf.keras.layers.Dropout(0.2),\n",
    "  tf.keras.layers.Dense(10, activation=tf.nn.softmax)\n",
    "])\n",
    "\n",
    "earlystp = EarlyStopping(monitor=\"loss\", patience=5, verbose=1, mode='auto')"
   ]
  },
  {
   "cell_type": "code",
   "execution_count": null,
   "metadata": {},
   "outputs": [],
   "source": [
    "# Trial 1 batchsize 32 vs 256\n",
    "epochs = 50\n",
    "\n",
    "model1.compile(optimizer='sgd', loss='sparse_categorical_crossentropy', metrics=['accuracy'])\n",
    "model1.fit(x_train, y_train, epochs=epochs, batch_size=32, callbacks=[earlystp])\n",
    "\n",
    "model2 = clone_model(model1)\n",
    "model2.compile(optimizer='sgd', loss='sparse_categorical_crossentropy', metrics=['accuracy'])\n",
    "model2.fit(x_train, y_train, epochs=epochs, batch_size=256, callbacks=[earlystp])\n"
   ]
  },
  {
   "cell_type": "code",
   "execution_count": null,
   "metadata": {},
   "outputs": [],
   "source": [
    "# Trial 2 sgd learning rate 0.1 vs 1e-3\n",
    "epochs = 50\n",
    "\n",
    "optimizer = tf.keras.optimizers.SGD(lr=0.1)\n",
    "model1.compile(optimizer=optimizer, loss='sparse_categorical_crossentropy', metrics=['accuracy'])\n",
    "model1.fit(x_train, y_train, epochs=epochs, batch_size=64, callbacks=[earlystp])\n",
    "\n",
    "model2 = clone_model(model1)\n",
    "optimizer = tf.keras.optimizers.SGD(lr=1e-3)\n",
    "model2.compile(optimizer=optimizer, loss='sparse_categorical_crossentropy', metrics=['accuracy'])\n",
    "model2.fit(x_train, y_train, epochs=epochs, batch_size=64, callbacks=[earlystp])"
   ]
  },
  {
   "cell_type": "code",
   "execution_count": null,
   "metadata": {},
   "outputs": [],
   "source": [
    "# Trial 3 sgd vs adam\n",
    "epochs = 50\n",
    "\n",
    "optimizer = tf.keras.optimizers.Adam(lr=0.01)\n",
    "model1.compile(optimizer=optimizer, loss='sparse_categorical_crossentropy', metrics=['accuracy'])\n",
    "model1.fit(x_train, y_train, epochs=epochs, batch_size=64, callbacks=[earlystp])\n",
    "model2 = clone_model(model1)\n",
    "optimizer = tf.keras.optimizers.SGD(lr=0.01)\n",
    "model2.compile(optimizer=optimizer, loss='sparse_categorical_crossentropy', metrics=['accuracy'])\n",
    "model2.fit(x_train, y_train, epochs=epochs, batch_size=64, callbacks=[earlystp])"
   ]
  },
  {
   "cell_type": "code",
   "execution_count": null,
   "metadata": {},
   "outputs": [],
   "source": [
    "import tqdm\n",
    "\n",
    "weights1 = model1.get_weights()\n",
    "# weights2 = model2.get_weights()\n",
    "weights2 = model1.get_weights()\n",
    "pmodel = clone_model(model1)\n",
    "pmodel.compile(optimizer=model1.optimizer, loss=model1.loss, metrics=['accuracy'])\n",
    "\n",
    "\n",
    "# structure: [alpha, train_loss, train_acc, test_loss, test_acc]\n",
    "results = []\n",
    "\n",
    "for i in tqdm.tqdm(range(-100, 201)):\n",
    "    alpha = i*0.01\n",
    "    weights3 = [ (1-alpha)*t1 + alpha*t2 for t1, t2 in zip(weights1, weights2) ]\n",
    "    pmodel.set_weights(weights3)\n",
    "    train_loss, train_acc = pmodel.evaluate(x_train, y_train, verbose=0, batch_size=256)\n",
    "    test_loss, test_acc = pmodel.evaluate(x_test, y_test, verbose=0, batch_size=256)\n",
    "    results.append([alpha, train_loss, train_acc, test_loss, test_acc])\n",
    "    \n",
    "results = np.asarray(results)"
   ]
  },
  {
   "cell_type": "code",
   "execution_count": null,
   "metadata": {},
   "outputs": [],
   "source": [
    "import matplotlib.pyplot as plt\n",
    "# fig, ax1 = plt.subplots()\n",
    "\n",
    "# plots the training loss\n",
    "plt.plot(results[:,0], results[:,1], 'b')\n",
    "# plots the testing loss\n",
    "plt.plot(results[:,0], results[:,3], 'b:')\n",
    "plt.xlabel('alpha')\n",
    "label = plt.ylabel('cross entropy loss')\n",
    "label.set_color(\"blue\")\n",
    "plt.legend(['training', 'testing'], loc='upper left')\n",
    "\n",
    "plt.twinx()\n",
    "# plots the training accu\n",
    "plt.plot(results[:,0], results[:,2], 'r')\n",
    "# plots the testing accu\n",
    "plt.plot(results[:,0], results[:,4], 'r:')\n",
    "\n",
    "label = plt.ylabel('accuracy')\n",
    "label.set_color(\"red\")\n",
    "\n",
    "plt.show()"
   ]
  },
  {
   "cell_type": "code",
   "execution_count": null,
   "metadata": {},
   "outputs": [],
   "source": []
  }
 ],
 "metadata": {
  "kernelspec": {
   "display_name": "Python 3",
   "language": "python",
   "name": "python3"
  },
  "language_info": {
   "codemirror_mode": {
    "name": "ipython",
    "version": 3
   },
   "file_extension": ".py",
   "mimetype": "text/x-python",
   "name": "python",
   "nbconvert_exporter": "python",
   "pygments_lexer": "ipython3",
   "version": "3.6.8"
  }
 },
 "nbformat": 4,
 "nbformat_minor": 2
}
