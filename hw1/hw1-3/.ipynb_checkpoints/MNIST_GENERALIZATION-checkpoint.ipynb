{
 "cells": [
  {
   "cell_type": "code",
   "execution_count": 1,
   "metadata": {},
   "outputs": [
    {
     "name": "stderr",
     "output_type": "stream",
     "text": [
      "Using TensorFlow backend.\n"
     ]
    }
   ],
   "source": [
    "import tensorflow as tf\n",
    "from keras.models import Model, Sequential\n",
    "from keras.optimizers import SGD, Adadelta, Adam\n",
    "from keras.layers import Input, Flatten, Dense, Dropout\n",
    "from keras.utils import np_utils\n",
    "import numpy as np\n",
    "import matplotlib.pyplot as plt\n",
    "import math\n",
    "import keras\n",
    "portion_len = 20\n",
    "mnist = tf.keras.datasets.mnist\n",
    "\n",
    "\n"
   ]
  },
  {
   "cell_type": "code",
   "execution_count": 2,
   "metadata": {},
   "outputs": [],
   "source": [
    "class MODEL(object):\n",
    "    def __init__(self,parameters_coef, width = 28, height = 28):\n",
    "        self.width = width\n",
    "        self.height = height\n",
    "        self.parameters_coef = parameters_coef\n",
    "        \n",
    "        self.shape = (self.width, self.height)\n",
    "        self.optimizer =  SGD(lr=0.01, momentum=0.9, decay=1e-8, nesterov=False)\n",
    "        \n",
    "        self.model = self.__model()\n",
    "        self.model.compile(loss='sparse_categorical_crossentropy', optimizer='adam', metrics=['accuracy'])\n",
    "        \n",
    "    def __model(self):\n",
    "        model = keras.models.Sequential([\n",
    "          keras.layers.Flatten(input_shape = self.shape),\n",
    "          keras.layers.Dense(math.floor(self.parameters_coef * 50), activation='relu'),\n",
    "          keras.layers.Dropout(0.2),\n",
    "          keras.layers.Dense(10, activation='softmax')\n",
    "        ])\n",
    "        model.summary()\n",
    "        \n",
    "        return model\n",
    "    \n",
    "    \n",
    "    def train(self, x_train, y_train, epochs = 10):\n",
    "        callbacks = [\n",
    "            keras.callbacks.EarlyStopping(monitor='loss', patience=5, verbose=0)\n",
    "            #ModelCheckpoint(kfold_weights_path, monitor='val_loss', save_best_only=True, verbose=0),\n",
    "        ]\n",
    "        history = self.model.fit(x_train, y_train, epochs=epochs, callbacks=callbacks)\n",
    "        \n",
    "        loss = history.history['loss']\n",
    "        accuracy = history.history['acc']\n",
    "        self.loss = loss\n",
    "        self.acc = accuracy\n",
    "        \n",
    "    "
   ]
  },
  {
   "cell_type": "code",
   "execution_count": 3,
   "metadata": {},
   "outputs": [
    {
     "name": "stdout",
     "output_type": "stream",
     "text": [
      "GPU found\n",
      "(60000, 28, 28)\n",
      "(60000,)\n",
      "_________________________________________________________________\n",
      "Layer (type)                 Output Shape              Param #   \n",
      "=================================================================\n",
      "flatten_1 (Flatten)          (None, 784)               0         \n",
      "_________________________________________________________________\n",
      "dense_1 (Dense)              (None, 512)               401920    \n",
      "_________________________________________________________________\n",
      "dropout_1 (Dropout)          (None, 512)               0         \n",
      "_________________________________________________________________\n",
      "dense_2 (Dense)              (None, 10)                5130      \n",
      "=================================================================\n",
      "Total params: 407,050\n",
      "Trainable params: 407,050\n",
      "Non-trainable params: 0\n",
      "_________________________________________________________________\n",
      "Epoch 1/10\n",
      "60000/60000 [==============================] - 6s 104us/step - loss: 0.2182 - acc: 0.9368\n",
      "Epoch 2/10\n",
      "60000/60000 [==============================] - 7s 118us/step - loss: 0.0968 - acc: 0.9707\n",
      "Epoch 3/10\n",
      "60000/60000 [==============================] - 6s 97us/step - loss: 0.0694 - acc: 0.9786\n",
      "Epoch 4/10\n",
      "60000/60000 [==============================] - 7s 110us/step - loss: 0.0534 - acc: 0.9828\n",
      "Epoch 5/10\n",
      "60000/60000 [==============================] - 6s 93us/step - loss: 0.0429 - acc: 0.9860\n",
      "Epoch 6/10\n",
      "60000/60000 [==============================] - 7s 113us/step - loss: 0.0347 - acc: 0.9888\n",
      "Epoch 7/10\n",
      "60000/60000 [==============================] - 7s 123us/step - loss: 0.0336 - acc: 0.9889\n",
      "Epoch 8/10\n",
      "60000/60000 [==============================] - 7s 114us/step - loss: 0.0273 - acc: 0.9911\n",
      "Epoch 9/10\n",
      "60000/60000 [==============================] - 6s 100us/step - loss: 0.0243 - acc: 0.9916\n",
      "Epoch 10/10\n",
      "60000/60000 [==============================] - 7s 114us/step - loss: 0.0224 - acc: 0.9927\n",
      "10000/10000 [==============================] - 0s 45us/step\n"
     ]
    }
   ],
   "source": [
    "if __name__ == '__main__':\n",
    "    if tf.test.gpu_device_name():\n",
    "        print('GPU found')\n",
    "    else:\n",
    "        print(\"No GPU found\")\n",
    "    (x_train, y_train),(x_test, y_test) = mnist.load_data()\n",
    "    x_train, x_test = x_train / 255.0, x_test / 255.0\n",
    "#     y_train = np_utils.to_categorical(y_train, num_classes=10)\n",
    "#     y_test = np_utils.to_categorical(y_test, num_classes=10)\n",
    "    print(x_train.shape)\n",
    "    print(y_train.shape)\n",
    "    train_acc = []\n",
    "    train_loss = []\n",
    "    \n",
    "    eval_acc = []\n",
    "    eval_loss = []\n",
    "    \n",
    "    for i in range(portion_len):\n",
    "        my_mnist = MODEL(parameters_coef = (i+1))\n",
    "        file_name = \"MNIST_GENERALIZATION\" + str(i) + \".h5\"\n",
    "        my_mnist.train(x_train, y_train)\n",
    "        my_mnist.model.save(file_name)\n",
    "        train_loss.append(my_mnist.loss[-1])\n",
    "        train_acc.append(my_mnist.acc[-1])\n",
    "        \n",
    "        loss,acc = my_mnist.model.evaluate(x_test, y_test)\n",
    "        eval_loss.append(loss)\n",
    "        eval_acc.append(acc)\n",
    "        \n"
   ]
  },
  {
   "cell_type": "code",
   "execution_count": 4,
   "metadata": {},
   "outputs": [
    {
     "data": {
      "image/png": "[encoded data removed]",
      "text/plain": [
       "<Figure size 432x288 with 1 Axes>"
      ]
     },
     "metadata": {
      "needs_background": "light"
     },
     "output_type": "display_data"
    }
   ],
   "source": [
    "    plt.scatter(np.arange(portion_len) ,train_loss, label='train')\n",
    "    plt.scatter(np.arange(portion_len) ,eval_loss, label='test')\n",
    "\n",
    "    plt.legend(loc='upper right')\n",
    "    plt.xlabel('coef of parameters')\n",
    "    plt.ylabel('loss')\n",
    "    plt.savefig('MNIST_GENERALIZATION_LOSS.png')\n",
    "    plt.show()\n",
    "\n",
    "    np.save(\"MNIST_GENERALIZATION_TRAIN_LOSS\",np.array(train_loss))\n",
    "    np.save(\"MNIST_GENERALIZATION_TEST_LOSS\",np.array(eval_loss))"
   ]
  },
  {
   "cell_type": "code",
   "execution_count": 5,
   "metadata": {},
   "outputs": [
    {
     "data": {
      "image/png": "[encoded data removed]",
      "text/plain": [
       "<Figure size 432x288 with 1 Axes>"
      ]
     },
     "metadata": {
      "needs_background": "light"
     },
     "output_type": "display_data"
    },
    {
     "data": {
      "text/plain": [
       "<Figure size 432x288 with 0 Axes>"
      ]
     },
     "metadata": {},
     "output_type": "display_data"
    }
   ],
   "source": [
    "    plt.scatter(np.arange(portion_len) ,train_acc[-1], label='train')\n",
    "    plt.scatter(np.arange(portion_len) ,eval_acc, label='test')\n",
    "    np.save(\"MNIST_GENERALIZATION_TRAIN_ACC\",np.array(train_acc))\n",
    "    np.save(\"MNIST_GENERALIZATION_TEST_ACC\",np.array(eval_acc))\n",
    "    plt.legend(loc='upper right')\n",
    "    plt.xlabel('coef of parameters')\n",
    "    plt.ylabel('acc')\n",
    "    plt.show()\n",
    "    plt.savefig('MNIST_GENERALIZATION_ACC.png')"
   ]
  },
  {
   "cell_type": "code",
   "execution_count": null,
   "metadata": {},
   "outputs": [],
   "source": []
  }
 ],
 "metadata": {
  "kernelspec": {
   "display_name": "Python 3",
   "language": "python",
   "name": "python3"
  },
  "language_info": {
   "codemirror_mode": {
    "name": "ipython",
    "version": 3
   },
   "file_extension": ".py",
   "mimetype": "text/x-python",
   "name": "python",
   "nbconvert_exporter": "python",
   "pygments_lexer": "ipython3",
   "version": "3.6.8"
  }
 },
 "nbformat": 4,
 "nbformat_minor": 2
}
