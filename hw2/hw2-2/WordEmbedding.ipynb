{
 "cells": [
  {
   "cell_type": "code",
   "execution_count": 1,
   "metadata": {},
   "outputs": [],
   "source": [
    "num_threads = 4\n",
    "w2vType = 'Word2Vec' # or Word2Vec 'FastText'\n",
    "n_dim = 100\n",
    "embed_name = '{}{}d'.format(w2vType, n_dim)\n",
    "vocab_name = 'vocab.json'\n",
    "matrix_name = 'wv_matrix{}d'.format(n_dim)\n",
    "filename = 'mlds_hw2_2_data/clr_conversation.txt'"
   ]
  },
  {
   "cell_type": "code",
   "execution_count": 2,
   "metadata": {},
   "outputs": [],
   "source": [
    "import json\n",
    "from gensim.models import Word2Vec, KeyedVectors, FastText\n",
    "from tqdm import tqdm_notebook as tqdm\n",
    "import numpy as np"
   ]
  },
  {
   "cell_type": "code",
   "execution_count": 3,
   "metadata": {},
   "outputs": [],
   "source": [
    "BOS = '<bos>'\n",
    "EOS = '<eos>'\n",
    "PAD = '<pad>'\n",
    "UNK = '<unk>'\n",
    "MAX_Q_LEN = 10\n",
    "MAX_A_LEN = 10"
   ]
  },
  {
   "cell_type": "code",
   "execution_count": 4,
   "metadata": {},
   "outputs": [
    {
     "data": {
      "text/plain": [
       "['<bos>', '美國', '2500', '萬名', '老兵', '致敬', '<eos>', '<pad>']"
      ]
     },
     "execution_count": 4,
     "metadata": {},
     "output_type": "execute_result"
    }
   ],
   "source": [
    "sents = []\n",
    "def loadsents(name):\n",
    "    with open(name, 'r', encoding='utf-8') as f:\n",
    "        for s in f:\n",
    "            if s is not \"+++$+++\":\n",
    "                sents.append([BOS] + s.split() + [EOS] + [PAD])\n",
    "loadsents(filename)\n",
    "sents[0]"
   ]
  },
  {
   "cell_type": "code",
   "execution_count": 5,
   "metadata": {},
   "outputs": [],
   "source": [
    "from gensim.models.callbacks import CallbackAny2Vec\n",
    "class EpochLogger(CallbackAny2Vec):\n",
    "    '''Callback to log information about training'''\n",
    "    def __init__(self):\n",
    "        self.epoch = 0\n",
    "\n",
    "    def on_epoch_begin(self, model):\n",
    "        print(\"Epoch #{} start\".format(self.epoch))\n",
    "\n",
    "    def on_epoch_end(self, model):\n",
    "        print(\"Epoch #{} end\".format(self.epoch))\n",
    "        self.epoch += 1"
   ]
  },
  {
   "cell_type": "code",
   "execution_count": 6,
   "metadata": {},
   "outputs": [
    {
     "name": "stdout",
     "output_type": "stream",
     "text": [
      "Epoch #0 start\n",
      "Epoch #0 end\n",
      "Epoch #1 start\n",
      "Epoch #1 end\n",
      "Epoch #2 start\n",
      "Epoch #2 end\n",
      "Epoch #3 start\n",
      "Epoch #3 end\n",
      "Epoch #4 start\n",
      "Epoch #4 end\n"
     ]
    },
    {
     "data": {
      "text/plain": [
       "(67560264, 124505000)"
      ]
     },
     "execution_count": 6,
     "metadata": {},
     "output_type": "execute_result"
    }
   ],
   "source": [
    "epoch_logger = EpochLogger()\n",
    "if w2vType == 'FastText':\n",
    "    model = FastText(size=n_dim, window=5, min_count=3, workers=num_threads, callbacks=[epoch_logger])\n",
    "else:\n",
    "    model = Word2Vec(size=n_dim, window=5, min_count=3, workers=num_threads, callbacks=[epoch_logger])\n",
    "\n",
    "model.build_vocab(sents)\n",
    "total_examples = model.corpus_count\n",
    "model.train(sents, total_examples=total_examples, epochs=5)"
   ]
  },
  {
   "cell_type": "code",
   "execution_count": 7,
   "metadata": {},
   "outputs": [
    {
     "name": "stdout",
     "output_type": "stream",
     "text": [
      "狗\n",
      "[('小狗', 0.7613780498504639), ('老鼠', 0.7343587875366211), ('猴子', 0.7112685441970825), ('雞', 0.6920151710510254), ('貓', 0.6781436204910278), ('烏鴉', 0.6681642532348633), ('鳥', 0.6631174087524414), ('這狗', 0.6585632562637329), ('老虎', 0.644609808921814), ('蛋', 0.6358624696731567)]\n"
     ]
    }
   ],
   "source": [
    "word = '狗'\n",
    "print(word)\n",
    "print(model.wv.similar_by_word(word))"
   ]
  },
  {
   "cell_type": "code",
   "execution_count": 8,
   "metadata": {},
   "outputs": [],
   "source": [
    "model.wv.save(embed_name)"
   ]
  },
  {
   "cell_type": "code",
   "execution_count": 9,
   "metadata": {},
   "outputs": [
    {
     "name": "stdout",
     "output_type": "stream",
     "text": [
      "done\n"
     ]
    }
   ],
   "source": [
    "embed_model = model.wv\n",
    "VOCAB_SZ = len(embed_model.vocab)\n",
    "vocab = {'<unk>':VOCAB_SZ}\n",
    "\n",
    "def l2_normd_np(a):\n",
    "    b = np.linalg.norm(a)\n",
    "    return 0*a if b == 0 else a / b\n",
    "\n",
    "wv_matrix = (np.random.rand(VOCAB_SZ+1, n_dim) - 0.5) / 5.0\n",
    "for wid in range(VOCAB_SZ):\n",
    "    word = embed_model.index2word[wid]\n",
    "    vec = embed_model[word]\n",
    "    wv_matrix[wid] = l2_normd_np(vec)\n",
    "    vocab[word] = wid\n",
    "    \n",
    "np.save(matrix_name, wv_matrix)\n",
    "json.dump(vocab, open(vocab_name, 'w', encoding='utf-8'))\n",
    "print('done')"
   ]
  },
  {
   "cell_type": "code",
   "execution_count": 10,
   "metadata": {},
   "outputs": [
    {
     "name": "stdout",
     "output_type": "stream",
     "text": [
      "狗 猴子\n",
      "0.711268583801\n"
     ]
    }
   ],
   "source": [
    "vocab = json.load(open(vocab_name, 'r', encoding='utf-8'))\n",
    "wv_matrix = np.load(matrix_name+'.npy')\n",
    "\n",
    "word1 = '狗'\n",
    "word2 = '猴子'\n",
    "print(word1, word2)\n",
    "index1 = vocab[word1]\n",
    "index2 = vocab[word2]\n",
    "print(wv_matrix[index1] @ wv_matrix[index2])"
   ]
  },
  {
   "cell_type": "code",
   "execution_count": null,
   "metadata": {},
   "outputs": [],
   "source": []
  }
 ],
 "metadata": {
  "kernelspec": {
   "display_name": "Python 3",
   "language": "python",
   "name": "python3"
  },
  "language_info": {
   "codemirror_mode": {
    "name": "ipython",
    "version": 3
   },
   "file_extension": ".py",
   "mimetype": "text/x-python",
   "name": "python",
   "nbconvert_exporter": "python",
   "pygments_lexer": "ipython3",
   "version": "3.6.0"
  }
 },
 "nbformat": 4,
 "nbformat_minor": 2
}
