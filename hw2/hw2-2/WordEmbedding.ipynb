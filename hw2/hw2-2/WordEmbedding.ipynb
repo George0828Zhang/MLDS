{
 "cells": [
  {
   "cell_type": "code",
   "execution_count": 1,
   "metadata": {},
   "outputs": [],
   "source": [
    "num_threads = 4\n",
    "w2vType = 'Word2Vec' # or Word2Vec 'FastText'\n",
    "n_dim = 250\n",
    "embed_name = '{}{}d'.format(w2vType, n_dim)\n",
    "vocab_name = 'vocab.json'\n",
    "filename = 'mlds_hw2_2_data/clr_conversation.txt'"
   ]
  },
  {
   "cell_type": "code",
   "execution_count": 2,
   "metadata": {},
   "outputs": [],
   "source": [
    "import json\n",
    "from gensim.models import Word2Vec, KeyedVectors, FastText\n",
    "from tqdm import tqdm_notebook as tqdm"
   ]
  },
  {
   "cell_type": "code",
   "execution_count": 3,
   "metadata": {},
   "outputs": [],
   "source": [
    "BOS = '<bos>'\n",
    "EOS = '<eos>'\n",
    "PAD = '<pad>'\n",
    "UNK = '<unk>'\n",
    "MAX_Q_LEN = 10\n",
    "MAX_A_LEN = 10"
   ]
  },
  {
   "cell_type": "code",
   "execution_count": 4,
   "metadata": {},
   "outputs": [
    {
     "data": {
      "text/plain": [
       "['<bos>', '美國', '2500', '萬名', '老兵', '致敬', '<eos>', '<pad>']"
      ]
     },
     "execution_count": 4,
     "metadata": {},
     "output_type": "execute_result"
    }
   ],
   "source": [
    "sents = []\n",
    "def loadsents(name):\n",
    "    with open(name, 'r', encoding='utf-8') as f:\n",
    "        for s in f:\n",
    "            if s is not \"+++$+++\":\n",
    "                sents.append([BOS] + s.split() + [EOS] + [PAD])\n",
    "loadsents(filename)\n",
    "sents[0]"
   ]
  },
  {
   "cell_type": "code",
   "execution_count": 5,
   "metadata": {},
   "outputs": [
    {
     "data": {
      "text/plain": [
       "(136524970, 249010000)"
      ]
     },
     "execution_count": 5,
     "metadata": {},
     "output_type": "execute_result"
    }
   ],
   "source": [
    "if w2vType == 'FastText':\n",
    "    model = FastText(size=n_dim, window=5, min_count=3, workers=num_threads)\n",
    "else:\n",
    "    model = Word2Vec(size=n_dim, window=5, min_count=1, workers=num_threads)\n",
    "\n",
    "model.build_vocab(sents)\n",
    "total_examples = model.corpus_count\n",
    "model.train(sents, total_examples=total_examples, epochs=10)"
   ]
  },
  {
   "cell_type": "code",
   "execution_count": 9,
   "metadata": {},
   "outputs": [
    {
     "name": "stdout",
     "output_type": "stream",
     "text": [
      "老師\n",
      "[('學生', 0.584943950176239), ('教師', 0.5320754051208496), ('同學', 0.5026180744171143), ('校長', 0.4841841459274292), ('教授', 0.48357275128364563), ('作家', 0.48206013441085815), ('畢業生', 0.47705259919166565), ('女僕', 0.4728127121925354), ('護士', 0.47062957286834717), ('治療師', 0.4524710476398468)]\n"
     ]
    }
   ],
   "source": [
    "word = '老師'\n",
    "print(word)\n",
    "print(model.wv.similar_by_word(word))"
   ]
  },
  {
   "cell_type": "code",
   "execution_count": 10,
   "metadata": {},
   "outputs": [],
   "source": [
    "model.wv.save(embed_name)"
   ]
  },
  {
   "cell_type": "code",
   "execution_count": null,
   "metadata": {},
   "outputs": [],
   "source": []
  }
 ],
 "metadata": {
  "kernelspec": {
   "display_name": "Python 3",
   "language": "python",
   "name": "python3"
  },
  "language_info": {
   "codemirror_mode": {
    "name": "ipython",
    "version": 3
   },
   "file_extension": ".py",
   "mimetype": "text/x-python",
   "name": "python",
   "nbconvert_exporter": "python",
   "pygments_lexer": "ipython3",
   "version": "3.6.0"
  }
 },
 "nbformat": 4,
 "nbformat_minor": 2
}
