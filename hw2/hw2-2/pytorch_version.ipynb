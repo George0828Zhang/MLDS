{
 "cells": [
  {
   "cell_type": "code",
   "execution_count": 1,
   "metadata": {},
   "outputs": [],
   "source": [
    "import torch\n",
    "import numpy as np\n",
    "import torch.nn.functional as F\n",
    "import torchvision\n",
    "\n",
    "#from keras.preprocessing.sequence import pad_sequences\n",
    "#from keras.utils import to_categorical\n",
    "\n",
    "from tqdm import tqdm\n",
    "\n",
    "import json\n",
    "import nltk\n",
    "from nltk import word_tokenize\n",
    "\n",
    "from torch.utils.data.dataloader import default_collate\n"
   ]
  },
  {
   "cell_type": "code",
   "execution_count": 2,
   "metadata": {},
   "outputs": [],
   "source": [
    "device = torch.device(\"cuda\" if torch.cuda.is_available() else \"cpu\")"
   ]
  },
  {
   "cell_type": "code",
   "execution_count": 3,
   "metadata": {},
   "outputs": [],
   "source": [
    "\n",
    "idfilename = 'training_data/id.txt'\n",
    "datadirname = 'training_data/feat/'\n",
    "labelfilename = 'training_label.json'\n",
    "\n",
    "with open(\"DIC_word_index.json\") as f:\n",
    "    DIC_word_index = json.load(f)\n",
    "\n",
    "with open(\"DIC_index_word.json\") as f:\n",
    "    DIC_index_word = json.load(f)"
   ]
  },
  {
   "cell_type": "code",
   "execution_count": 4,
   "metadata": {},
   "outputs": [],
   "source": [
    "\n",
    "\n",
    "class SeqAttNet(torch.nn.Module):\n",
    "    \"\"\"\n",
    "\n",
    "    Args:\n",
    "\n",
    "    \"\"\"\n",
    "\n",
    "    def __init__(self, latent_dim, VOCAB_SZ):\n",
    "        super(SeqAttNet, self).__init__()\n",
    "\n",
    "        self.hidden_dim = latent_dim\n",
    "\n",
    "        self.lstm1 = torch.nn.GRU(4096, latent_dim,  num_layers=1, batch_first = True)\n",
    "        self.lstm2 = torch.nn.GRU(VOCAB_SZ, latent_dim,  num_layers=1, batch_first = True)\n",
    "        self.soft = torch.nn.Softmax(-2)\n",
    "\n",
    "\n",
    "        \n",
    "\n",
    "        self.trainable_W = torch.nn.Sequential(\n",
    "            torch.nn.Linear(latent_dim ,  latent_dim),\n",
    "            torch.nn.Sigmoid(),\n",
    "            torch.nn.Dropout(p=0.2),\n",
    "        )\n",
    "        \n",
    "        self.last_layer = torch.nn.Sequential(\n",
    "            torch.nn.Linear( 2 * latent_dim,  VOCAB_SZ),\n",
    "            torch.nn.Tanh(),\n",
    "            torch.nn.Softmax(-1)\n",
    "        )\n",
    "    \n",
    "    \n",
    "    def encoder_lstm(self, x):\n",
    "        #input of shape (seq_len, batch, input_size):\n",
    "        #print(x.shape)\n",
    "        x, hiddens = self.lstm1(x)\n",
    "        \n",
    "        #x shape -> [seq_n, batch_size, latent_dim * 2]\n",
    "        return x, hiddens\n",
    "    \n",
    "    def decoder_lstm(self, x, hiddens):\n",
    "        #input of shape ( batch,seq_len, input_size):\n",
    "\n",
    "        x, hiddens = self.lstm2(x, hiddens)\n",
    "\n",
    "        #x shape -> [batch_size,seq_n,  latent_dim * 2]\n",
    "        return x, hiddens\n",
    "    \n",
    "\n",
    "    def forward(self, video_feature, sent):\n",
    "\n",
    "        #print(sent.shape) torch.Size([2, 15, 6087])\n",
    "\n",
    "        e_output, hiddens = self.encoder_lstm(video_feature)\n",
    "        uW = self.trainable_W(e_output)\n",
    "        \n",
    "        first = 1       \n",
    "        \n",
    "        for word in sent.transpose(1,0):\n",
    "            #print(word.shape) torch.Size([2, 6087])\n",
    "            word = torch.unsqueeze(word , 1)\n",
    "\n",
    "            #print(word.shape)\n",
    "            #one for each word, therefore d_output = d_state\n",
    "            d_output, hiddens = self.decoder_lstm(word, hiddens)\n",
    "            uWv = torch.matmul(uW, d_output.transpose(2,1))\n",
    "            #print(uWv.shape) torch.Size([2, 80, 1])\n",
    "            alpha = self.soft(uWv)\n",
    "            #print(uWv)\n",
    "            #print(alpha)\n",
    "            #input(\"\")\n",
    "            new_context = e_output.transpose(2,1) @ alpha;\n",
    "            #print(e_output.shape) torch.Size([2, 80, 256])\n",
    "            #print(alpha.shape) torch.Size([2, 80, 1])\n",
    "            \n",
    "            #print(d_output.shape) torch.Size([2, 1, 256])\n",
    "            #print(new_context.shape) torch.Size([2, 256, 1])          \n",
    "            pre = torch.cat((d_output, new_context.transpose(2,1)), 2)\n",
    "            if(first):\n",
    "                first = 0;\n",
    "                last_layer_input = pre\n",
    "            else:\n",
    "                last_layer_input = torch.cat((last_layer_input, pre), 1)\n",
    "            #print(last_layer_input.shape) torch.Size([2, 1, 512])\n",
    "            \n",
    "        logits = self.last_layer(last_layer_input)\n",
    "\n",
    "        #logits = torch.stack(logits, 1)\n",
    "        return logits\n",
    "            \n"
   ]
  },
  {
   "cell_type": "code",
   "execution_count": 5,
   "metadata": {},
   "outputs": [],
   "source": [
    "def to_words(ys):       \n",
    "    tokens = []\n",
    "    for catagorical_word in ys:\n",
    "        index = np.argmax(catagorical_word.cpu())\n",
    "        #print(index)\n",
    "        if str(index.cpu().item()) in DIC_index_word:\n",
    "            tokens.append(DIC_index_word[str(index.cpu().item())])\n",
    "        else:\n",
    "            tokens.append('<unk>');\n",
    "    return tokens"
   ]
  },
  {
   "cell_type": "code",
   "execution_count": 6,
   "metadata": {},
   "outputs": [],
   "source": [
    "def _run_iter(batch, training, model, loss_function):\n",
    "    with torch.no_grad():\n",
    "        image_feature = batch['encoder_x'].float().to(device)\n",
    "        sent = batch['decoder_x'].float().to(device)\n",
    "    output = model.forward(image_feature, sent)\n",
    "    #print(output.shape)\n",
    "    #print(batch['decoder_y'].shape)\n",
    "    #input(\"\")\n",
    "    #print(output)\n",
    "    #input(\"\")\n",
    "    loss = loss_function(output, batch['decoder_y'].float().to(device))\n",
    "    return output, loss"
   ]
  },
  {
   "cell_type": "code",
   "execution_count": 7,
   "metadata": {},
   "outputs": [],
   "source": [
    "def _run_epoch(dataloader, training, model, optimizer, loss_function):\n",
    "    model.train(training)\n",
    "    if training:\n",
    "        iter_in_epoch = min(len(dataloader), 1000000)\n",
    "        description = 'train'\n",
    "    else:\n",
    "        iter_in_epoch = len(dataloader)\n",
    "        description = 'test'\n",
    "    grad_accumulate_steps = 1\n",
    "    trange = tqdm(enumerate(dataloader), total=iter_in_epoch, desc=description)\n",
    "    loss = 0\n",
    "    for i, batch in trange:   \n",
    "        if training and i >= iter_in_epoch:\n",
    "            break\n",
    "\n",
    "        if training:\n",
    "            #print(\"batch:{}\".format(batch))\n",
    "            #print(batch['context'].dtype)\n",
    "            optimizer.zero_grad()\n",
    "            output, batch_loss = _run_iter(batch, training, model, loss_function)            \n",
    "            \n",
    "            batch_loss /= grad_accumulate_steps\n",
    "            \n",
    "            if i % grad_accumulate_steps == 0:\n",
    "                optimizer.zero_grad()\n",
    "            \n",
    "            batch_loss.backward()\n",
    "\n",
    "            if (i + 1) % grad_accumulate_steps == 0:\n",
    "                optimizer.step()\n",
    "            if(i == 0):\n",
    "                print(to_words(batch['decoder_x'][0]))\n",
    "                print(to_words(output[0]))\n",
    "        else:\n",
    "            with torch.no_grad():\n",
    "                output, batch_loss = _run_iter(batch, training, model, loss_function)\n",
    "                if(i == 0):\n",
    "                    print(to_words(batch['decoder_x'][0]))\n",
    "                    print(to_words(output[0]))\n",
    "                \n",
    "        loss += batch_loss.item()\n",
    "\n",
    "    loss /= iter_in_epoch\n",
    "    print('loss=%f\\n' % loss)"
   ]
  },
  {
   "cell_type": "code",
   "execution_count": 8,
   "metadata": {},
   "outputs": [],
   "source": [
    "def Sent2Seq(sent):\n",
    "    #print(sent)    \n",
    "    tokens = word_tokenize(sent.lower())\n",
    "    ret = []\n",
    "    for word in tokens:\n",
    "        if(word in DIC_word_index):\n",
    "            ret.append(DIC_word_index[word])\n",
    "        else:\n",
    "            ret.append(DIC_word_index[\"<unk>\"])\n",
    "    return ret\n",
    "\n"
   ]
  },
  {
   "cell_type": "code",
   "execution_count": 9,
   "metadata": {},
   "outputs": [],
   "source": [
    "def pad_post_zero(a, length):\n",
    "    ret = []\n",
    "    for _list in a:\n",
    "        if(len(_list) < length):\n",
    "            for ct in range(len(_list),length,1):\n",
    "                _list.append(0)\n",
    "        if(len(_list) > length):\n",
    "            _list = _list[:length]\n",
    "            \n",
    "        ret.append(_list)\n",
    "    return ret"
   ]
  },
  {
   "cell_type": "code",
   "execution_count": 10,
   "metadata": {},
   "outputs": [],
   "source": [
    "def to_categorical(y, num_classes=None, dtype='float32'):\n",
    "    \"\"\"Converts a class vector (integers) to binary class matrix.\n",
    "    E.g. for use with categorical_crossentropy.\n",
    "    # Arguments\n",
    "        y: class vector to be converted into a matrix\n",
    "            (integers from 0 to num_classes).\n",
    "        num_classes: total number of classes.\n",
    "        dtype: The data type expected by the input, as a string\n",
    "            (`float32`, `float64`, `int32`...)\n",
    "    # Returns\n",
    "        A binary matrix representation of the input. The classes axis\n",
    "        is placed last.\n",
    "    # Example\n",
    "    ```python\n",
    "    # Consider an array of 5 labels out of a set of 3 classes {0, 1, 2}:\n",
    "    > labels\n",
    "    array([0, 2, 1, 2, 0])\n",
    "    # `to_categorical` converts this into a matrix with as many\n",
    "    # columns as there are classes. The number of rows\n",
    "    # stays the same.\n",
    "    > to_categorical(labels)\n",
    "    array([[ 1.,  0.,  0.],\n",
    "           [ 0.,  0.,  1.],\n",
    "           [ 0.,  1.,  0.],\n",
    "           [ 0.,  0.,  1.],\n",
    "           [ 1.,  0.,  0.]], dtype=float32)\n",
    "    ```\n",
    "    \"\"\"\n",
    "\n",
    "    y = np.array(y, dtype='int')\n",
    "    input_shape = y.shape\n",
    "    if input_shape and input_shape[-1] == 1 and len(input_shape) > 1:\n",
    "        input_shape = tuple(input_shape[:-1])\n",
    "    y = y.ravel()\n",
    "    if not num_classes:\n",
    "        num_classes = np.max(y) + 1\n",
    "    n = y.shape[0]\n",
    "    categorical = np.zeros((n, num_classes), dtype=dtype)\n",
    "    categorical[np.arange(n), y] = 1\n",
    "    output_shape = input_shape + (num_classes,)\n",
    "    categorical = np.reshape(categorical, output_shape)\n",
    "    return categorical\n"
   ]
  },
  {
   "cell_type": "code",
   "execution_count": 11,
   "metadata": {},
   "outputs": [],
   "source": [
    "def my_collate(datas):\n",
    "    batch = {}\n",
    "    # collate lists\n",
    "    batch['decoder_x'] = torch.tensor([data['decoder_x'] for data in datas])\n",
    "    batch['decoder_y'] = torch.tensor([data['decoder_y'] for data in datas])\n",
    "    batch['encoder_x'] = torch.tensor([data['encoder_x'] for data in datas])\n",
    "    return batch"
   ]
  },
  {
   "cell_type": "code",
   "execution_count": null,
   "metadata": {},
   "outputs": [],
   "source": []
  },
  {
   "cell_type": "code",
   "execution_count": null,
   "metadata": {},
   "outputs": [],
   "source": []
  },
  {
   "cell_type": "code",
   "execution_count": null,
   "metadata": {},
   "outputs": [],
   "source": []
  },
  {
   "cell_type": "code",
   "execution_count": 12,
   "metadata": {},
   "outputs": [],
   "source": [
    "# loading training data\n",
    "encode_x = []\n",
    "video_id = {}\n",
    "for i,video_name in enumerate(open(idfilename)):\n",
    "    video_name = video_name[:-1]\n",
    "    x = np.load(datadirname + video_name + \".npy\")\n",
    "    encode_x.append(x)\n",
    "    video_id[video_name] = i\n",
    "\n",
    "encode_x = np.array(encode_x)\n",
    "\n",
    "TRAIN_SZ = len(encode_x)\n",
    "decode_x = [[]]*TRAIN_SZ\n",
    "decode_y = [[]]*TRAIN_SZ"
   ]
  },
  {
   "cell_type": "code",
   "execution_count": 13,
   "metadata": {},
   "outputs": [],
   "source": [
    "VOCAB_SZ = len(DIC_word_index)\n",
    "MAX_SEQ_LEN = 0;\n",
    "# loading decoder data\n",
    "rawlabels = json.load(open(labelfilename, 'r'))\n",
    "for data in rawlabels:    \n",
    "    index = video_id[data['id']]\n",
    "    #print(index)\n",
    "    sent =  data['caption'][-1] # select one sentence for now\n",
    "    # TODO: implement Sent2Seq\n",
    "    decode_x[index] = [1] + Sent2Seq(sent)\n",
    "    decode_y[index] = Sent2Seq(sent) + [2]\n",
    "    if(len(decode_x[index]) > MAX_SEQ_LEN):\n",
    "        MAX_SEQ_LEN = len(decode_x[index])"
   ]
  },
  {
   "cell_type": "code",
   "execution_count": null,
   "metadata": {},
   "outputs": [],
   "source": [
    "###valid#####\n",
    "valid_encode_x = []\n",
    "valid_video_id = {}\n",
    "for i,video_name in enumerate(open('testing_data/id.txt')):\n",
    "    video_name = video_name[:-1]\n",
    "    x = np.load(\"testing_data/feat/\" + video_name + \".npy\")\n",
    "    valid_encode_x.append(x)\n",
    "    valid_video_id[video_name] = i\n",
    "\n",
    "valid_encode_x = np.array(valid_encode_x)\n",
    "\n",
    "VALID_SZ = len(valid_encode_x)\n",
    "valid_decode_x = [[]]*VALID_SZ\n",
    "valid_decode_y = [[]]*VALID_SZ"
   ]
  },
  {
   "cell_type": "code",
   "execution_count": null,
   "metadata": {},
   "outputs": [],
   "source": [
    "rawlabels = json.load(open('testing_label.json', 'r'))\n",
    "for data in rawlabels:    \n",
    "    index = valid_video_id[data['id']]\n",
    "    #print(index)\n",
    "    sent =  data['caption'][-1] # select one sentence for now\n",
    "    # TODO: implement Sent2Seq\n",
    "    valid_decode_x[index] = [1] + Sent2Seq(sent)\n",
    "    valid_decode_y[index] = Sent2Seq(sent) + [2]\n"
   ]
  },
  {
   "cell_type": "code",
   "execution_count": null,
   "metadata": {},
   "outputs": [],
   "source": [
    "lr = 1e-3  # learning rate\n",
    "MAX_SEQ_LEN = 10\n",
    "batch_size = 2\n",
    "latent_dim = 256\n",
    "iter_in_epoch = 500"
   ]
  },
  {
   "cell_type": "code",
   "execution_count": null,
   "metadata": {},
   "outputs": [],
   "source": [
    "decode_x = pad_post_zero(decode_x, MAX_SEQ_LEN)\n",
    "decode_y = pad_post_zero(decode_y, MAX_SEQ_LEN)\n",
    "#decode_x = pad_sequences(decode_x, maxlen=MAX_SEQ_LEN, padding='post', truncating='pre')\n",
    "#decode_y = pad_sequences(decode_y, maxlen=MAX_SEQ_LEN, padding='post', truncating='pre')\n",
    "\n",
    "decode_y = to_categorical(decode_y, VOCAB_SZ)\n",
    "decode_x = to_categorical(decode_x, VOCAB_SZ)\n",
    "\n",
    "datas = []\n",
    "for a,b,c in zip(decode_x, decode_y , encode_x):\n",
    "    data = {}\n",
    "\n",
    "    data['decoder_x'] = a\n",
    "    data['decoder_y'] = b;\n",
    "    data['encoder_x'] = c;\n",
    "    datas.append(data)\n"
   ]
  },
  {
   "cell_type": "code",
   "execution_count": null,
   "metadata": {},
   "outputs": [],
   "source": [
    "valid_decode_x = pad_post_zero(valid_decode_x, MAX_SEQ_LEN)\n",
    "valid_decode_y = pad_post_zero(valid_decode_y, MAX_SEQ_LEN)\n",
    "#decode_x = pad_sequences(decode_x, maxlen=MAX_SEQ_LEN, padding='post', truncating='pre')\n",
    "#decode_y = pad_sequences(decode_y, maxlen=MAX_SEQ_LEN, padding='post', truncating='pre')\n",
    "\n",
    "valid_decode_y = to_categorical(valid_decode_y, VOCAB_SZ)\n",
    "valid_decode_x = to_categorical(valid_decode_x, VOCAB_SZ)\n",
    "\n",
    "valid_datas = []\n",
    "for a,b,c in zip(valid_decode_x, valid_decode_y , valid_encode_x):\n",
    "    valid_data = {}\n",
    "\n",
    "    valid_data['decoder_x'] = a\n",
    "    valid_data['decoder_y'] = b;\n",
    "    valid_data['encoder_x'] = c;\n",
    "    valid_datas.append(valid_data)"
   ]
  },
  {
   "cell_type": "code",
   "execution_count": null,
   "metadata": {},
   "outputs": [
    {
     "name": "stdout",
     "output_type": "stream",
     "text": [
      "1450\n",
      "1450\n",
      "1450\n"
     ]
    }
   ],
   "source": [
    "print(len(decode_x))\n",
    "print(len(decode_y))\n",
    "print(len(encode_x))\n",
    "#for i in enumerate(datas):\n",
    "#    print(i)"
   ]
  },
  {
   "cell_type": "code",
   "execution_count": null,
   "metadata": {},
   "outputs": [],
   "source": [
    "model = SeqAttNet(latent_dim, VOCAB_SZ)\n",
    "\n",
    "model = model.to(device)\n",
    "optimizer = torch.optim.Adam(model.parameters(),lr=lr)\n",
    "loss_function = torch.nn.BCELoss()"
   ]
  },
  {
   "cell_type": "code",
   "execution_count": null,
   "metadata": {},
   "outputs": [
    {
     "name": "stderr",
     "output_type": "stream",
     "text": [
      "train:   0%|          | 2/725 [00:00<00:59, 12.12it/s]"
     ]
    },
    {
     "name": "stdout",
     "output_type": "stream",
     "text": [
      "training 0\n",
      "['<bos>', 'the', 'horse', 'pooped', 'on', 'the', 'lady', 'who', 'was', 'underneath']\n",
      "['chees', 'gives', 'gives', 'escaped', 'escaped', 'escaped', 'escaped', 'gives', 'otherwise', 'gives']\n"
     ]
    },
    {
     "name": "stderr",
     "output_type": "stream",
     "text": [
      "train: 100%|██████████| 725/725 [00:57<00:00, 12.54it/s]\n",
      "test:   4%|▍         | 2/50 [00:00<00:03, 13.84it/s]"
     ]
    },
    {
     "name": "stdout",
     "output_type": "stream",
     "text": [
      "loss=0.001367\n",
      "\n",
      "evaluating 0\n",
      "['<bos>', 'the', 'man', 'is', 'seasoning', 'the', 'chicken', '.', '<pad>', '<pad>']\n",
      "['young', 'young', 'playing', 'playing', 'tail', 'tail', 'tail', 'half', 'pot', 'pot']\n"
     ]
    },
    {
     "name": "stderr",
     "output_type": "stream",
     "text": [
      "test: 100%|██████████| 50/50 [00:03<00:00, 14.07it/s]\n",
      "train:   0%|          | 2/725 [00:00<00:58, 12.36it/s]"
     ]
    },
    {
     "name": "stdout",
     "output_type": "stream",
     "text": [
      "loss=0.001358\n",
      "\n",
      "training 1\n",
      "['<bos>', 'the', 'horse', 'pooped', 'on', 'the', 'lady', 'who', 'was', 'underneath']\n",
      "['young', 'young', 'bear', 'bear', 'its', 'its', 'tail', 'motorcycle', 'path', 'path']\n"
     ]
    },
    {
     "name": "stderr",
     "output_type": "stream",
     "text": [
      "train: 100%|██████████| 725/725 [00:57<00:00, 12.52it/s]\n",
      "test:   4%|▍         | 2/50 [00:00<00:03, 13.70it/s]"
     ]
    },
    {
     "name": "stdout",
     "output_type": "stream",
     "text": [
      "loss=0.001349\n",
      "\n",
      "evaluating 1\n",
      "['<bos>', 'the', 'man', 'is', 'seasoning', 'the', 'chicken', '.', '<pad>', '<pad>']\n",
      "['pushed', 'pushed', 'pushed', 'is', 'paper', 'shrimp', 'water', 'potatoe', 'potatoe', 'potatoe']\n"
     ]
    },
    {
     "name": "stderr",
     "output_type": "stream",
     "text": [
      "test: 100%|██████████| 50/50 [00:03<00:00, 14.08it/s]\n",
      "train:   0%|          | 2/725 [00:00<00:58, 12.45it/s]"
     ]
    },
    {
     "name": "stdout",
     "output_type": "stream",
     "text": [
      "loss=0.001353\n",
      "\n",
      "training 2\n",
      "['<bos>', 'the', 'horse', 'pooped', 'on', 'the', 'lady', 'who', 'was', 'underneath']\n",
      "['pushed', 'pushed', 'pushed', 'pushed', 'guitar', 'leg', 'motorcycle', 'plastic', 'plastic', 'plastic']\n"
     ]
    },
    {
     "name": "stderr",
     "output_type": "stream",
     "text": [
      "train: 100%|██████████| 725/725 [00:57<00:00, 12.55it/s]\n",
      "test:   4%|▍         | 2/50 [00:00<00:03, 13.78it/s]"
     ]
    },
    {
     "name": "stdout",
     "output_type": "stream",
     "text": [
      "loss=0.001342\n",
      "\n",
      "evaluating 2\n",
      "['<bos>', 'the', 'man', 'is', 'seasoning', 'the', 'chicken', '.', '<pad>', '<pad>']\n",
      "['woman', 'threw', 'threw', 'played', 'paper', 'half', 'box', 'box', 'box', 'box']\n"
     ]
    },
    {
     "name": "stderr",
     "output_type": "stream",
     "text": [
      "test: 100%|██████████| 50/50 [00:03<00:00, 14.09it/s]\n",
      "train:   0%|          | 2/725 [00:00<00:58, 12.37it/s]"
     ]
    },
    {
     "name": "stdout",
     "output_type": "stream",
     "text": [
      "loss=0.001347\n",
      "\n",
      "training 3\n",
      "['<bos>', 'the', 'horse', 'pooped', 'on', 'the', 'lady', 'who', 'was', 'underneath']\n",
      "['people', 'pulled', 'danced', 'played', 'dance', 'box', 'box', 'box', 'box', 'box']\n"
     ]
    },
    {
     "name": "stderr",
     "output_type": "stream",
     "text": [
      "train: 100%|██████████| 725/725 [00:57<00:00, 12.56it/s]\n",
      "test:   4%|▍         | 2/50 [00:00<00:03, 13.76it/s]"
     ]
    },
    {
     "name": "stdout",
     "output_type": "stream",
     "text": [
      "loss=0.001334\n",
      "\n",
      "evaluating 3\n",
      "['<bos>', 'the', 'man', 'is', 'seasoning', 'the', 'chicken', '.', '<pad>', '<pad>']\n",
      "['fell', 'fell', 'put', 'pizza', 'pizza', 'pizza', 'pizza', 'pizza', 'the', 'fell']\n"
     ]
    },
    {
     "name": "stderr",
     "output_type": "stream",
     "text": [
      "test: 100%|██████████| 50/50 [00:03<00:00, 14.02it/s]\n",
      "train:   0%|          | 2/725 [00:00<00:58, 12.42it/s]"
     ]
    },
    {
     "name": "stdout",
     "output_type": "stream",
     "text": [
      "loss=0.001343\n",
      "\n",
      "training 4\n",
      "['<bos>', 'the', 'horse', 'pooped', 'on', 'the', 'lady', 'who', 'was', 'underneath']\n",
      "['fell', 'fell', 'fell', 'dog', 'leg', 'leg', 'on', 'he', 'fell', 'fell']\n"
     ]
    },
    {
     "name": "stderr",
     "output_type": "stream",
     "text": [
      "train: 100%|██████████| 725/725 [00:57<00:00, 12.53it/s]\n",
      "test:   4%|▍         | 2/50 [00:00<00:03, 13.77it/s]"
     ]
    },
    {
     "name": "stdout",
     "output_type": "stream",
     "text": [
      "loss=0.001324\n",
      "\n",
      "evaluating 4\n",
      "['<bos>', 'the', 'man', 'is', 'seasoning', 'the', 'chicken', '.', '<pad>', '<pad>']\n",
      "['the', 'chef', 'chopped', 'of', 'on', 'on', 'on', 'the', 'the', 'the']\n"
     ]
    },
    {
     "name": "stderr",
     "output_type": "stream",
     "text": [
      "test: 100%|██████████| 50/50 [00:03<00:00, 14.04it/s]\n",
      "train:   0%|          | 2/725 [00:00<00:57, 12.51it/s]"
     ]
    },
    {
     "name": "stdout",
     "output_type": "stream",
     "text": [
      "loss=0.001338\n",
      "\n",
      "training 5\n",
      "['<bos>', 'the', 'horse', 'pooped', 'on', 'the', 'lady', 'who', 'was', 'underneath']\n",
      "['the', 'was', 'and', 'on', 'on', 'at', 'on', 'on', 'on', '<pad>']\n"
     ]
    },
    {
     "name": "stderr",
     "output_type": "stream",
     "text": [
      "train: 100%|██████████| 725/725 [00:57<00:00, 12.51it/s]\n",
      "test:   4%|▍         | 2/50 [00:00<00:03, 13.87it/s]"
     ]
    },
    {
     "name": "stdout",
     "output_type": "stream",
     "text": [
      "loss=0.001314\n",
      "\n",
      "evaluating 5\n",
      "['<bos>', 'the', 'man', 'is', 'seasoning', 'the', 'chicken', '.', '<pad>', '<pad>']\n",
      "['the', 'girl', 'threw', 'in', 'of', 'on', '<eos>', 'the', 'the', 'the']\n"
     ]
    },
    {
     "name": "stderr",
     "output_type": "stream",
     "text": [
      "test: 100%|██████████| 50/50 [00:03<00:00, 14.10it/s]\n",
      "train:   0%|          | 2/725 [00:00<00:58, 12.42it/s]"
     ]
    },
    {
     "name": "stdout",
     "output_type": "stream",
     "text": [
      "loss=0.001336\n",
      "\n",
      "training 6\n",
      "['<bos>', 'the', 'horse', 'pooped', 'on', 'the', 'lady', 'who', 'was', 'underneath']\n",
      "['the', 'girl', 'boy', 'on', 'on', 'on', 'on', '<eos>', '<eos>', '<eos>']\n"
     ]
    },
    {
     "name": "stderr",
     "output_type": "stream",
     "text": [
      "train: 100%|██████████| 725/725 [00:57<00:00, 12.51it/s]\n",
      "test:   4%|▍         | 2/50 [00:00<00:03, 13.81it/s]"
     ]
    },
    {
     "name": "stdout",
     "output_type": "stream",
     "text": [
      "loss=0.001304\n",
      "\n",
      "evaluating 6\n",
      "['<bos>', 'the', 'man', 'is', 'seasoning', 'the', 'chicken', '.', '<pad>', '<pad>']\n",
      "['the', 'young', 'cut', 'the', 'of', 'her', '<eos>', 'the', 'the', 'the']\n"
     ]
    },
    {
     "name": "stderr",
     "output_type": "stream",
     "text": [
      "test: 100%|██████████| 50/50 [00:03<00:00, 14.09it/s]\n",
      "train:   0%|          | 2/725 [00:00<00:57, 12.50it/s]"
     ]
    },
    {
     "name": "stdout",
     "output_type": "stream",
     "text": [
      "loss=0.001333\n",
      "\n",
      "training 7\n",
      "['<bos>', 'the', 'horse', 'pooped', 'on', 'the', 'lady', 'who', 'was', 'underneath']\n",
      "['the', 'young', 'ran', 'on', 'on', 'on', '<eos>', '<eos>', '<eos>', '<eos>']\n"
     ]
    },
    {
     "name": "stderr",
     "output_type": "stream",
     "text": [
      "train: 100%|██████████| 725/725 [00:57<00:00, 12.52it/s]\n",
      "test:   4%|▍         | 2/50 [00:00<00:03, 13.91it/s]"
     ]
    },
    {
     "name": "stdout",
     "output_type": "stream",
     "text": [
      "loss=0.001295\n",
      "\n",
      "evaluating 7\n",
      "['<bos>', 'the', 'man', 'is', 'seasoning', 'the', 'chicken', '.', '<pad>', '<pad>']\n",
      "['the', 'man', 'chopped', 'of', 'of', '.', '<eos>', 'a', 'the', 'the']\n"
     ]
    },
    {
     "name": "stderr",
     "output_type": "stream",
     "text": [
      "test: 100%|██████████| 50/50 [00:03<00:00, 14.07it/s]\n",
      "train:   0%|          | 2/725 [00:00<00:58, 12.41it/s]"
     ]
    },
    {
     "name": "stdout",
     "output_type": "stream",
     "text": [
      "loss=0.001332\n",
      "\n",
      "training 8\n",
      "['<bos>', 'the', 'horse', 'pooped', 'on', 'the', 'lady', 'who', 'was', 'underneath']\n",
      "['the', 'young', 'was', 'on', 'on', 'on', '<eos>', '<eos>', '<eos>', '<eos>']\n"
     ]
    },
    {
     "name": "stderr",
     "output_type": "stream",
     "text": [
      "train: 100%|██████████| 725/725 [00:57<00:00, 12.51it/s]\n",
      "test:   4%|▍         | 2/50 [00:00<00:03, 13.71it/s]"
     ]
    },
    {
     "name": "stdout",
     "output_type": "stream",
     "text": [
      "loss=0.001289\n",
      "\n",
      "evaluating 8\n",
      "['<bos>', 'the', 'man', 'is', 'seasoning', 'the', 'chicken', '.', '<pad>', '<pad>']\n",
      "['the', 'man', 'cut', 'playing', 'of', '.', '<eos>', '<eos>', '<pad>', '<pad>']\n"
     ]
    },
    {
     "name": "stderr",
     "output_type": "stream",
     "text": [
      "test: 100%|██████████| 50/50 [00:03<00:00, 14.08it/s]\n",
      "train:   0%|          | 2/725 [00:00<00:58, 12.45it/s]"
     ]
    },
    {
     "name": "stdout",
     "output_type": "stream",
     "text": [
      "loss=0.001335\n",
      "\n",
      "training 9\n",
      "['<bos>', 'the', 'horse', 'pooped', 'on', 'the', 'lady', 'who', 'was', 'underneath']\n",
      "['the', 'young', 'tried', 'playing', 'with', 'man', '<eos>', '<eos>', '<eos>', '<eos>']\n"
     ]
    },
    {
     "name": "stderr",
     "output_type": "stream",
     "text": [
      "train: 100%|██████████| 725/725 [00:57<00:00, 12.59it/s]\n",
      "test:   4%|▍         | 2/50 [00:00<00:03, 13.74it/s]"
     ]
    },
    {
     "name": "stdout",
     "output_type": "stream",
     "text": [
      "loss=0.001285\n",
      "\n",
      "evaluating 9\n",
      "['<bos>', 'the', 'man', 'is', 'seasoning', 'the', 'chicken', '.', '<pad>', '<pad>']\n",
      "['the', 'man', 'is', 'for', '.', 'water', '<eos>', 'the', 'the', 'the']\n"
     ]
    },
    {
     "name": "stderr",
     "output_type": "stream",
     "text": [
      "test: 100%|██████████| 50/50 [00:03<00:00, 14.09it/s]\n",
      "train:   0%|          | 2/725 [00:00<00:57, 12.56it/s]"
     ]
    },
    {
     "name": "stdout",
     "output_type": "stream",
     "text": [
      "loss=0.001334\n",
      "\n",
      "training 10\n",
      "['<bos>', 'the', 'horse', 'pooped', 'on', 'the', 'lady', 'who', 'was', 'underneath']\n",
      "['the', 'young', 'ran', 'playing', 'at', \"'s\", '<eos>', '<eos>', '<eos>', '<eos>']\n"
     ]
    },
    {
     "name": "stderr",
     "output_type": "stream",
     "text": [
      "train: 100%|██████████| 725/725 [00:57<00:00, 12.58it/s]\n",
      "test:   4%|▍         | 2/50 [00:00<00:03, 13.80it/s]"
     ]
    },
    {
     "name": "stdout",
     "output_type": "stream",
     "text": [
      "loss=0.001282\n",
      "\n",
      "evaluating 10\n",
      "['<bos>', 'the', 'man', 'is', 'seasoning', 'the', 'chicken', '.', '<pad>', '<pad>']\n",
      "['the', 'man', 'is', 'of', 'of', 'fish', '<eos>', 'the', '<pad>', '<pad>']\n"
     ]
    },
    {
     "name": "stderr",
     "output_type": "stream",
     "text": [
      "test: 100%|██████████| 50/50 [00:03<00:00, 14.03it/s]\n",
      "train:   0%|          | 2/725 [00:00<00:58, 12.44it/s]"
     ]
    },
    {
     "name": "stdout",
     "output_type": "stream",
     "text": [
      "loss=0.001333\n",
      "\n",
      "training 11\n",
      "['<bos>', 'the', 'horse', 'pooped', 'on', 'the', 'lady', 'who', 'was', 'underneath']\n",
      "['the', 'woman', 'tried', 'playing', 'on', \"'s\", '<eos>', '<eos>', '<eos>', '<eos>']\n"
     ]
    },
    {
     "name": "stderr",
     "output_type": "stream",
     "text": [
      "train: 100%|██████████| 725/725 [00:57<00:00, 12.51it/s]\n",
      "test:   4%|▍         | 2/50 [00:00<00:03, 13.76it/s]"
     ]
    },
    {
     "name": "stdout",
     "output_type": "stream",
     "text": [
      "loss=0.001280\n",
      "\n",
      "evaluating 11\n",
      "['<bos>', 'the', 'man', 'is', 'seasoning', 'the', 'chicken', '.', '<pad>', '<pad>']\n",
      "['the', 'man', 'cut', 'an', 'a', 'water', '<eos>', 'the', 'the', 'the']\n"
     ]
    },
    {
     "name": "stderr",
     "output_type": "stream",
     "text": [
      "test: 100%|██████████| 50/50 [00:03<00:00, 14.01it/s]\n",
      "train:   0%|          | 2/725 [00:00<00:58, 12.34it/s]"
     ]
    },
    {
     "name": "stdout",
     "output_type": "stream",
     "text": [
      "loss=0.001335\n",
      "\n",
      "training 12\n",
      "['<bos>', 'the', 'horse', 'pooped', 'on', 'the', 'lady', 'who', 'was', 'underneath']\n",
      "['young', 'young', 'is', 'at', 'on', 'man', '<eos>', '<eos>', '<eos>', '<eos>']\n"
     ]
    },
    {
     "name": "stderr",
     "output_type": "stream",
     "text": [
      "train: 100%|██████████| 725/725 [00:57<00:00, 12.51it/s]\n",
      "test:   4%|▍         | 2/50 [00:00<00:03, 13.75it/s]"
     ]
    },
    {
     "name": "stdout",
     "output_type": "stream",
     "text": [
      "loss=0.001279\n",
      "\n",
      "evaluating 12\n",
      "['<bos>', 'the', 'man', 'is', 'seasoning', 'the', 'chicken', '.', '<pad>', '<pad>']\n",
      "['the', 'man', 'is', 'in', 'the', 'water', '<eos>', 'the', 'the', 'the']\n"
     ]
    },
    {
     "name": "stderr",
     "output_type": "stream",
     "text": [
      "test: 100%|██████████| 50/50 [00:03<00:00, 14.06it/s]\n",
      "train:   0%|          | 2/725 [00:00<00:58, 12.26it/s]"
     ]
    },
    {
     "name": "stdout",
     "output_type": "stream",
     "text": [
      "loss=0.001336\n",
      "\n",
      "training 13\n",
      "['<bos>', 'the', 'horse', 'pooped', 'on', 'the', 'lady', 'who', 'was', 'underneath']\n",
      "['the', 'young', 'rode', 'at', 'with', 'other', '<eos>', '<eos>', '<eos>', '<eos>']\n"
     ]
    },
    {
     "name": "stderr",
     "output_type": "stream",
     "text": [
      "train: 100%|██████████| 725/725 [00:57<00:00, 12.57it/s]\n",
      "test:   4%|▍         | 2/50 [00:00<00:03, 13.83it/s]"
     ]
    },
    {
     "name": "stdout",
     "output_type": "stream",
     "text": [
      "loss=0.001278\n",
      "\n",
      "evaluating 13\n",
      "['<bos>', 'the', 'man', 'is', 'seasoning', 'the', 'chicken', '.', '<pad>', '<pad>']\n",
      "['the', 'man', 'is', 'of', 'eggs', 'to', '<eos>', 'the', 'the', 'the']\n"
     ]
    },
    {
     "name": "stderr",
     "output_type": "stream",
     "text": [
      "test: 100%|██████████| 50/50 [00:03<00:00, 14.04it/s]\n",
      "train:   0%|          | 2/725 [00:00<00:58, 12.45it/s]"
     ]
    },
    {
     "name": "stdout",
     "output_type": "stream",
     "text": [
      "loss=0.001337\n",
      "\n",
      "training 14\n",
      "['<bos>', 'the', 'horse', 'pooped', 'on', 'the', 'lady', 'who', 'was', 'underneath']\n",
      "['the', 'man', 'hit', 'on', 'on', 'on', '<eos>', '<eos>', '.', 'him']\n"
     ]
    },
    {
     "name": "stderr",
     "output_type": "stream",
     "text": [
      "train: 100%|██████████| 725/725 [00:57<00:00, 12.50it/s]\n",
      "test:   4%|▍         | 2/50 [00:00<00:03, 13.67it/s]"
     ]
    },
    {
     "name": "stdout",
     "output_type": "stream",
     "text": [
      "loss=0.001277\n",
      "\n",
      "evaluating 14\n",
      "['<bos>', 'the', 'man', 'is', 'seasoning', 'the', 'chicken', '.', '<pad>', '<pad>']\n",
      "['the', 'man', 'is', 'in', 'into', 'to', '<eos>', 'the', 'the', 'the']\n"
     ]
    },
    {
     "name": "stderr",
     "output_type": "stream",
     "text": [
      "test: 100%|██████████| 50/50 [00:03<00:00, 14.03it/s]\n",
      "train:   0%|          | 2/725 [00:00<00:58, 12.40it/s]"
     ]
    },
    {
     "name": "stdout",
     "output_type": "stream",
     "text": [
      "loss=0.001337\n",
      "\n",
      "training 15\n",
      "['<bos>', 'the', 'horse', 'pooped', 'on', 'the', 'lady', 'who', 'was', 'underneath']\n",
      "['the', 'young', 'moved', 'his', 'his', 'other', '<eos>', '<eos>', '.', '<eos>']\n"
     ]
    },
    {
     "name": "stderr",
     "output_type": "stream",
     "text": [
      "train: 100%|██████████| 725/725 [00:57<00:00, 12.54it/s]\n",
      "test:   4%|▍         | 2/50 [00:00<00:03, 13.86it/s]"
     ]
    },
    {
     "name": "stdout",
     "output_type": "stream",
     "text": [
      "loss=0.001277\n",
      "\n",
      "evaluating 15\n",
      "['<bos>', 'the', 'man', 'is', 'seasoning', 'the', 'chicken', '.', '<pad>', '<pad>']\n",
      "['the', 'man', 'is', 'in', 'and', 'into', 'the', 'the', 'the', 'the']\n"
     ]
    },
    {
     "name": "stderr",
     "output_type": "stream",
     "text": [
      "test: 100%|██████████| 50/50 [00:03<00:00, 14.10it/s]\n",
      "train:   0%|          | 2/725 [00:00<00:57, 12.47it/s]"
     ]
    },
    {
     "name": "stdout",
     "output_type": "stream",
     "text": [
      "loss=0.001337\n",
      "\n",
      "training 16\n",
      "['<bos>', 'the', 'horse', 'pooped', 'on', 'the', 'lady', 'who', 'was', 'underneath']\n",
      "['the', 'man', 'and', 'playing', 'on', 'other', \"'s\", '<eos>', '.', '.']\n"
     ]
    },
    {
     "name": "stderr",
     "output_type": "stream",
     "text": [
      "train: 100%|██████████| 725/725 [00:58<00:00, 12.49it/s]\n",
      "test:   4%|▍         | 2/50 [00:00<00:03, 13.71it/s]"
     ]
    },
    {
     "name": "stdout",
     "output_type": "stream",
     "text": [
      "loss=0.001276\n",
      "\n",
      "evaluating 16\n",
      "['<bos>', 'the', 'man', 'is', 'seasoning', 'the', 'chicken', '.', '<pad>', '<pad>']\n",
      "['the', 'man', 'is', 'is', 'into', 'into', 'the', 'the', 'the', 'the']\n"
     ]
    },
    {
     "name": "stderr",
     "output_type": "stream",
     "text": [
      "test: 100%|██████████| 50/50 [00:03<00:00, 14.06it/s]\n",
      "train:   0%|          | 2/725 [00:00<00:57, 12.48it/s]"
     ]
    },
    {
     "name": "stdout",
     "output_type": "stream",
     "text": [
      "loss=0.001339\n",
      "\n",
      "training 17\n",
      "['<bos>', 'the', 'horse', 'pooped', 'on', 'the', 'lady', 'who', 'was', 'underneath']\n",
      "['the', 'little', 'is', 'on', 'with', 'other', \"'s\", 'the', '.', '.']\n"
     ]
    },
    {
     "name": "stderr",
     "output_type": "stream",
     "text": [
      "train: 100%|██████████| 725/725 [00:57<00:00, 12.53it/s]\n",
      "test:   4%|▍         | 2/50 [00:00<00:03, 13.85it/s]"
     ]
    },
    {
     "name": "stdout",
     "output_type": "stream",
     "text": [
      "loss=0.001275\n",
      "\n",
      "evaluating 17\n",
      "['<bos>', 'the', 'man', 'is', 'seasoning', 'the', 'chicken', '.', '<pad>', '<pad>']\n",
      "['the', 'man', 'is', 'into', 'into', 'into', '.', '<eos>', 'the', 'the']\n"
     ]
    },
    {
     "name": "stderr",
     "output_type": "stream",
     "text": [
      "test: 100%|██████████| 50/50 [00:03<00:00, 14.04it/s]\n",
      "train:   0%|          | 2/725 [00:00<00:58, 12.30it/s]"
     ]
    },
    {
     "name": "stdout",
     "output_type": "stream",
     "text": [
      "loss=0.001339\n",
      "\n",
      "training 18\n",
      "['<bos>', 'the', 'horse', 'pooped', 'on', 'the', 'lady', 'who', 'was', 'underneath']\n",
      "['two', 'little', 'ran', 'through', 'in', 'man', 'on', 'the', '.', 'on']\n"
     ]
    },
    {
     "name": "stderr",
     "output_type": "stream",
     "text": [
      "train: 100%|██████████| 725/725 [00:57<00:00, 12.54it/s]\n",
      "test:   4%|▍         | 2/50 [00:00<00:03, 13.84it/s]"
     ]
    },
    {
     "name": "stdout",
     "output_type": "stream",
     "text": [
      "loss=0.001275\n",
      "\n",
      "evaluating 18\n",
      "['<bos>', 'the', 'man', 'is', 'seasoning', 'the', 'chicken', '.', '<pad>', '<pad>']\n",
      "['the', 'man', 'is', 'the', 'the', 'in', '.', 'the', 'the', 'the']\n"
     ]
    },
    {
     "name": "stderr",
     "output_type": "stream",
     "text": [
      "test: 100%|██████████| 50/50 [00:03<00:00, 14.14it/s]\n",
      "train:   0%|          | 2/725 [00:00<00:58, 12.45it/s]"
     ]
    },
    {
     "name": "stdout",
     "output_type": "stream",
     "text": [
      "loss=0.001342\n",
      "\n",
      "training 19\n",
      "['<bos>', 'the', 'horse', 'pooped', 'on', 'the', 'lady', 'who', 'was', 'underneath']\n",
      "['the', 'cat', 'ran', 'his', 'with', 'on', \"'s\", 'the', '.', '.']\n"
     ]
    },
    {
     "name": "stderr",
     "output_type": "stream",
     "text": [
      "train: 100%|██████████| 725/725 [00:57<00:00, 12.53it/s]\n",
      "test:   4%|▍         | 2/50 [00:00<00:03, 13.84it/s]"
     ]
    },
    {
     "name": "stdout",
     "output_type": "stream",
     "text": [
      "loss=0.001275\n",
      "\n",
      "evaluating 19\n",
      "['<bos>', 'the', 'man', 'is', 'seasoning', 'the', 'chicken', '.', '<pad>', '<pad>']\n",
      "['the', 'man', 'is', 'is', 'of', 'water', '.', 'the', 'the', 'the']\n"
     ]
    },
    {
     "name": "stderr",
     "output_type": "stream",
     "text": [
      "test: 100%|██████████| 50/50 [00:03<00:00, 14.12it/s]\n",
      "train:   0%|          | 2/725 [00:00<00:57, 12.48it/s]"
     ]
    },
    {
     "name": "stdout",
     "output_type": "stream",
     "text": [
      "loss=0.001341\n",
      "\n",
      "training 20\n",
      "['<bos>', 'the', 'horse', 'pooped', 'on', 'the', 'lady', 'who', 'was', 'underneath']\n",
      "['the', 'boy', 'was', 'his', 'his', 'man', 'in', 'the', '.', '.']\n"
     ]
    },
    {
     "name": "stderr",
     "output_type": "stream",
     "text": [
      "train: 100%|██████████| 725/725 [00:57<00:00, 12.51it/s]\n",
      "test:   4%|▍         | 2/50 [00:00<00:03, 13.74it/s]"
     ]
    },
    {
     "name": "stdout",
     "output_type": "stream",
     "text": [
      "loss=0.001274\n",
      "\n",
      "evaluating 20\n",
      "['<bos>', 'the', 'man', 'is', 'seasoning', 'the', 'chicken', '.', '<pad>', '<pad>']\n",
      "['the', 'lady', 'chopped', 'of', 'into', 'mixture', '.', 'the', 'the', 'the']\n"
     ]
    },
    {
     "name": "stderr",
     "output_type": "stream",
     "text": [
      "test: 100%|██████████| 50/50 [00:03<00:00, 14.03it/s]\n",
      "train:   0%|          | 2/725 [00:00<00:58, 12.43it/s]"
     ]
    },
    {
     "name": "stdout",
     "output_type": "stream",
     "text": [
      "loss=0.001341\n",
      "\n",
      "training 21\n",
      "['<bos>', 'the', 'horse', 'pooped', 'on', 'the', 'lady', 'who', 'was', 'underneath']\n",
      "['the', 'man', 'hit', 'through', 'with', 'other', '.', '.', '.', '.']\n"
     ]
    },
    {
     "name": "stderr",
     "output_type": "stream",
     "text": [
      "train: 100%|██████████| 725/725 [00:57<00:00, 12.54it/s]\n",
      "test:   4%|▍         | 2/50 [00:00<00:03, 13.79it/s]"
     ]
    },
    {
     "name": "stdout",
     "output_type": "stream",
     "text": [
      "loss=0.001274\n",
      "\n",
      "evaluating 21\n",
      "['<bos>', 'the', 'man', 'is', 'seasoning', 'the', 'chicken', '.', '<pad>', '<pad>']\n",
      "['the', 'man', 'is', 'of', 'into', 'water', '.', 'the', 'the', 'the']\n"
     ]
    },
    {
     "name": "stderr",
     "output_type": "stream",
     "text": [
      "test: 100%|██████████| 50/50 [00:03<00:00, 14.04it/s]\n",
      "train:   0%|          | 2/725 [00:00<00:59, 12.22it/s]"
     ]
    },
    {
     "name": "stdout",
     "output_type": "stream",
     "text": [
      "loss=0.001342\n",
      "\n",
      "training 22\n",
      "['<bos>', 'the', 'horse', 'pooped', 'on', 'the', 'lady', 'who', 'was', 'underneath']\n",
      "['the', 'baby', 'played', 'at', 'together', 'in', 'on', '.', '.', 'on']\n"
     ]
    },
    {
     "name": "stderr",
     "output_type": "stream",
     "text": [
      "train: 100%|██████████| 725/725 [00:57<00:00, 12.53it/s]\n",
      "test:   4%|▍         | 2/50 [00:00<00:03, 13.78it/s]"
     ]
    },
    {
     "name": "stdout",
     "output_type": "stream",
     "text": [
      "loss=0.001274\n",
      "\n",
      "evaluating 22\n",
      "['<bos>', 'the', 'man', 'is', 'seasoning', 'the', 'chicken', '.', '<pad>', '<pad>']\n",
      "['the', 'man', 'is', 'of', 'into', 'water', 'the', 'the', 'the', 'the']\n"
     ]
    },
    {
     "name": "stderr",
     "output_type": "stream",
     "text": [
      "test: 100%|██████████| 50/50 [00:03<00:00, 14.04it/s]\n",
      "train:   0%|          | 2/725 [00:00<00:58, 12.43it/s]"
     ]
    },
    {
     "name": "stdout",
     "output_type": "stream",
     "text": [
      "loss=0.001342\n",
      "\n",
      "training 23\n",
      "['<bos>', 'the', 'horse', 'pooped', 'on', 'the', 'lady', 'who', 'was', 'underneath']\n",
      "['the', 'couple', 'ran', 'off', 'his', 'on', '.', '.', '.', '.']\n"
     ]
    },
    {
     "name": "stderr",
     "output_type": "stream",
     "text": [
      "train: 100%|██████████| 725/725 [00:57<00:00, 12.56it/s]\n",
      "test:   4%|▍         | 2/50 [00:00<00:03, 13.80it/s]"
     ]
    },
    {
     "name": "stdout",
     "output_type": "stream",
     "text": [
      "loss=0.001273\n",
      "\n",
      "evaluating 23\n",
      "['<bos>', 'the', 'man', 'is', 'seasoning', 'the', 'chicken', '.', '<pad>', '<pad>']\n",
      "['the', 'man', 'is', 'on', 'on', 'water', 'the', 'the', 'the', 'the']\n"
     ]
    },
    {
     "name": "stderr",
     "output_type": "stream",
     "text": [
      "test: 100%|██████████| 50/50 [00:03<00:00, 14.06it/s]\n",
      "train:   0%|          | 2/725 [00:00<00:58, 12.41it/s]"
     ]
    },
    {
     "name": "stdout",
     "output_type": "stream",
     "text": [
      "loss=0.001345\n",
      "\n",
      "training 24\n",
      "['<bos>', 'the', 'horse', 'pooped', 'on', 'the', 'lady', 'who', 'was', 'underneath']\n",
      "['the', 'couple', 'was', 'at', 'with', 'other', 'the', 'the', 'her', '.']\n"
     ]
    },
    {
     "name": "stderr",
     "output_type": "stream",
     "text": [
      "train: 100%|██████████| 725/725 [00:57<00:00, 12.56it/s]\n",
      "test:   4%|▍         | 2/50 [00:00<00:03, 13.82it/s]"
     ]
    },
    {
     "name": "stdout",
     "output_type": "stream",
     "text": [
      "loss=0.001273\n",
      "\n",
      "evaluating 24\n",
      "['<bos>', 'the', 'man', 'is', 'seasoning', 'the', 'chicken', '.', '<pad>', '<pad>']\n",
      "['the', 'man', 'is', 'of', 'on', 'water', 'the', 'the', 'the', 'the']\n"
     ]
    },
    {
     "name": "stderr",
     "output_type": "stream",
     "text": [
      "test: 100%|██████████| 50/50 [00:03<00:00, 14.05it/s]\n",
      "train:   0%|          | 2/725 [00:00<00:58, 12.33it/s]"
     ]
    },
    {
     "name": "stdout",
     "output_type": "stream",
     "text": [
      "loss=0.001345\n",
      "\n",
      "training 25\n",
      "['<bos>', 'the', 'horse', 'pooped', 'on', 'the', 'lady', 'who', 'was', 'underneath']\n",
      "['the', 'man', 'did', 'his', 'with', 'man', 'the', '.', '.', '.']\n"
     ]
    },
    {
     "name": "stderr",
     "output_type": "stream",
     "text": [
      "train: 100%|██████████| 725/725 [00:57<00:00, 12.57it/s]\n",
      "test:   4%|▍         | 2/50 [00:00<00:03, 13.80it/s]"
     ]
    },
    {
     "name": "stdout",
     "output_type": "stream",
     "text": [
      "loss=0.001273\n",
      "\n",
      "evaluating 25\n",
      "['<bos>', 'the', 'man', 'is', 'seasoning', 'the', 'chicken', '.', '<pad>', '<pad>']\n",
      "['the', 'man', 'put', 'of', 'of', 'water', 'the', 'the', 'the', 'the']\n"
     ]
    },
    {
     "name": "stderr",
     "output_type": "stream",
     "text": [
      "test: 100%|██████████| 50/50 [00:03<00:00, 14.12it/s]\n",
      "train:   0%|          | 2/725 [00:00<00:58, 12.39it/s]"
     ]
    },
    {
     "name": "stdout",
     "output_type": "stream",
     "text": [
      "loss=0.001344\n",
      "\n",
      "training 26\n",
      "['<bos>', 'the', 'horse', 'pooped', 'on', 'the', 'lady', 'who', 'was', 'underneath']\n",
      "['the', 'man', 'is', 'at', 'with', 'on', '.', '.', 'on', 'on']\n"
     ]
    },
    {
     "name": "stderr",
     "output_type": "stream",
     "text": [
      "train: 100%|██████████| 725/725 [00:57<00:00, 12.56it/s]\n",
      "test:   4%|▍         | 2/50 [00:00<00:03, 13.88it/s]"
     ]
    },
    {
     "name": "stdout",
     "output_type": "stream",
     "text": [
      "loss=0.001273\n",
      "\n",
      "evaluating 26\n",
      "['<bos>', 'the', 'man', 'is', 'seasoning', 'the', 'chicken', '.', '<pad>', '<pad>']\n",
      "['the', 'man', 'poured', 'the', 'of', 'water', 'the', 'the', 'the', 'the']\n"
     ]
    },
    {
     "name": "stderr",
     "output_type": "stream",
     "text": [
      "test: 100%|██████████| 50/50 [00:03<00:00, 14.10it/s]\n",
      "train:   0%|          | 2/725 [00:00<00:57, 12.51it/s]"
     ]
    },
    {
     "name": "stdout",
     "output_type": "stream",
     "text": [
      "loss=0.001343\n",
      "\n",
      "training 27\n",
      "['<bos>', 'the', 'horse', 'pooped', 'on', 'the', 'lady', 'who', 'was', 'underneath']\n",
      "['the', 'person', 'played', 'through', 'with', 'wall', '.', '.', '.', '.']\n"
     ]
    },
    {
     "name": "stderr",
     "output_type": "stream",
     "text": [
      "train: 100%|██████████| 725/725 [00:57<00:00, 12.57it/s]\n",
      "test:   4%|▍         | 2/50 [00:00<00:03, 13.88it/s]"
     ]
    },
    {
     "name": "stdout",
     "output_type": "stream",
     "text": [
      "loss=0.001273\n",
      "\n",
      "evaluating 27\n",
      "['<bos>', 'the', 'man', 'is', 'seasoning', 'the', 'chicken', '.', '<pad>', '<pad>']\n",
      "['the', 'man', 'put', 'the', 'in', 'water', 'in', 'the', 'the', 'the']\n"
     ]
    },
    {
     "name": "stderr",
     "output_type": "stream",
     "text": [
      "test: 100%|██████████| 50/50 [00:03<00:00, 14.13it/s]\n",
      "train:   0%|          | 2/725 [00:00<00:57, 12.52it/s]"
     ]
    },
    {
     "name": "stdout",
     "output_type": "stream",
     "text": [
      "loss=0.001344\n",
      "\n",
      "training 28\n",
      "['<bos>', 'the', 'horse', 'pooped', 'on', 'the', 'lady', 'who', 'was', 'underneath']\n",
      "['the', 'monkey', 'ran', 'at', 'his', 'on', '.', '.', 'on', 'on']\n"
     ]
    },
    {
     "name": "stderr",
     "output_type": "stream",
     "text": [
      "train: 100%|██████████| 725/725 [00:57<00:00, 12.55it/s]\n",
      "test:   4%|▍         | 2/50 [00:00<00:03, 13.93it/s]"
     ]
    },
    {
     "name": "stdout",
     "output_type": "stream",
     "text": [
      "loss=0.001273\n",
      "\n",
      "evaluating 28\n",
      "['<bos>', 'the', 'man', 'is', 'seasoning', 'the', 'chicken', '.', '<pad>', '<pad>']\n",
      "['the', 'man', 'is', 'an', 'on', 'water', '.', 'the', 'the', 'the']\n"
     ]
    },
    {
     "name": "stderr",
     "output_type": "stream",
     "text": [
      "test: 100%|██████████| 50/50 [00:03<00:00, 14.11it/s]\n",
      "train:   0%|          | 2/725 [00:00<00:57, 12.54it/s]"
     ]
    },
    {
     "name": "stdout",
     "output_type": "stream",
     "text": [
      "loss=0.001345\n",
      "\n",
      "training 29\n",
      "['<bos>', 'the', 'horse', 'pooped', 'on', 'the', 'lady', 'who', 'was', 'underneath']\n",
      "['the', 'couple', 'played', 'his', 'his', 'other', 'and', '.', '.', 'and']\n"
     ]
    },
    {
     "name": "stderr",
     "output_type": "stream",
     "text": [
      "train: 100%|██████████| 725/725 [00:57<00:00, 12.56it/s]\n",
      "test:   4%|▍         | 2/50 [00:00<00:03, 13.80it/s]"
     ]
    },
    {
     "name": "stdout",
     "output_type": "stream",
     "text": [
      "loss=0.001272\n",
      "\n",
      "evaluating 29\n",
      "['<bos>', 'the', 'man', 'is', 'seasoning', 'the', 'chicken', '.', '<pad>', '<pad>']\n",
      "['the', 'man', 'is', 'of', 'of', 'water', 'in', 'the', 'the', 'the']\n"
     ]
    },
    {
     "name": "stderr",
     "output_type": "stream",
     "text": [
      "test: 100%|██████████| 50/50 [00:03<00:00, 14.06it/s]\n",
      "train:   0%|          | 2/725 [00:00<00:58, 12.39it/s]"
     ]
    },
    {
     "name": "stdout",
     "output_type": "stream",
     "text": [
      "loss=0.001348\n",
      "\n",
      "training 30\n",
      "['<bos>', 'the', 'horse', 'pooped', 'on', 'the', 'lady', 'who', 'was', 'underneath']\n",
      "['the', 'man', 'hit', 'at', 'his', 'man', '.', '.', 'him', 'him']\n"
     ]
    },
    {
     "name": "stderr",
     "output_type": "stream",
     "text": [
      "train: 100%|██████████| 725/725 [00:57<00:00, 12.55it/s]\n",
      "test:   4%|▍         | 2/50 [00:00<00:03, 13.86it/s]"
     ]
    },
    {
     "name": "stdout",
     "output_type": "stream",
     "text": [
      "loss=0.001272\n",
      "\n",
      "evaluating 30\n",
      "['<bos>', 'the', 'man', 'is', 'seasoning', 'the', 'chicken', '.', '<pad>', '<pad>']\n",
      "['the', 'man', 'put', 'into', 'to', 'water', 'with', 'the', 'the', 'the']\n"
     ]
    },
    {
     "name": "stderr",
     "output_type": "stream",
     "text": [
      "test: 100%|██████████| 50/50 [00:03<00:00, 13.99it/s]\n",
      "train:   0%|          | 2/725 [00:00<00:57, 12.58it/s]"
     ]
    },
    {
     "name": "stdout",
     "output_type": "stream",
     "text": [
      "loss=0.001347\n",
      "\n",
      "training 31\n",
      "['<bos>', 'the', 'horse', 'pooped', 'on', 'the', 'lady', 'who', 'was', 'underneath']\n",
      "['the', 'person', 'ran', 'at', 'his', 'man', 'on', '.', 'of', 'on']\n"
     ]
    },
    {
     "name": "stderr",
     "output_type": "stream",
     "text": [
      "train: 100%|██████████| 725/725 [00:57<00:00, 12.56it/s]\n",
      "test:   4%|▍         | 2/50 [00:00<00:03, 13.67it/s]"
     ]
    },
    {
     "name": "stdout",
     "output_type": "stream",
     "text": [
      "loss=0.001272\n",
      "\n",
      "evaluating 31\n",
      "['<bos>', 'the', 'man', 'is', 'seasoning', 'the', 'chicken', '.', '<pad>', '<pad>']\n",
      "['the', 'man', 'is', 'of', 'of', 'in', 'with', 'the', 'the', 'the']\n"
     ]
    },
    {
     "name": "stderr",
     "output_type": "stream",
     "text": [
      "test: 100%|██████████| 50/50 [00:03<00:00, 14.04it/s]\n",
      "train:   0%|          | 2/725 [00:00<00:57, 12.51it/s]"
     ]
    },
    {
     "name": "stdout",
     "output_type": "stream",
     "text": [
      "loss=0.001348\n",
      "\n",
      "training 32\n",
      "['<bos>', 'the', 'horse', 'pooped', 'on', 'the', 'lady', 'who', 'was', 'underneath']\n",
      "['the', 'person', 'ran', 'his', 'on', 'man', 'on', 'and', 'on', 'on']\n"
     ]
    },
    {
     "name": "stderr",
     "output_type": "stream",
     "text": [
      "train: 100%|██████████| 725/725 [00:57<00:00, 12.53it/s]\n",
      "test:   4%|▍         | 2/50 [00:00<00:03, 13.89it/s]"
     ]
    },
    {
     "name": "stdout",
     "output_type": "stream",
     "text": [
      "loss=0.001272\n",
      "\n",
      "evaluating 32\n",
      "['<bos>', 'the', 'man', 'is', 'seasoning', 'the', 'chicken', '.', '<pad>', '<pad>']\n",
      "['the', 'man', 'put', 'into', 'to', 'water', 'of', 'the', 'the', 'the']\n"
     ]
    },
    {
     "name": "stderr",
     "output_type": "stream",
     "text": [
      "test: 100%|██████████| 50/50 [00:03<00:00, 14.05it/s]\n",
      "train:   0%|          | 2/725 [00:00<00:57, 12.51it/s]"
     ]
    },
    {
     "name": "stdout",
     "output_type": "stream",
     "text": [
      "loss=0.001350\n",
      "\n",
      "training 33\n",
      "['<bos>', 'the', 'horse', 'pooped', 'on', 'the', 'lady', 'who', 'was', 'underneath']\n",
      "['two', 'man', 'ran', 'at', 'on', 'man', '.', '.', 'of', 'on']\n"
     ]
    },
    {
     "name": "stderr",
     "output_type": "stream",
     "text": [
      "train: 100%|██████████| 725/725 [00:57<00:00, 12.53it/s]\n",
      "test:   4%|▍         | 2/50 [00:00<00:03, 13.91it/s]"
     ]
    },
    {
     "name": "stdout",
     "output_type": "stream",
     "text": [
      "loss=0.001272\n",
      "\n",
      "evaluating 33\n",
      "['<bos>', 'the', 'man', 'is', 'seasoning', 'the', 'chicken', '.', '<pad>', '<pad>']\n",
      "['the', 'man', 'is', 'on', 'with', 'with', 'with', 'the', 'the', 'the']\n"
     ]
    },
    {
     "name": "stderr",
     "output_type": "stream",
     "text": [
      "test: 100%|██████████| 50/50 [00:03<00:00, 13.98it/s]\n",
      "train:   0%|          | 2/725 [00:00<00:58, 12.43it/s]"
     ]
    },
    {
     "name": "stdout",
     "output_type": "stream",
     "text": [
      "loss=0.001349\n",
      "\n",
      "training 34\n",
      "['<bos>', 'the', 'horse', 'pooped', 'on', 'the', 'lady', 'who', 'was', 'underneath']\n",
      "['the', 'cat', 'ran', 'at', 'with', 'man', 'on', '.', 'on', 'on']\n"
     ]
    },
    {
     "name": "stderr",
     "output_type": "stream",
     "text": [
      "train: 100%|██████████| 725/725 [00:57<00:00, 12.53it/s]\n",
      "test:   4%|▍         | 2/50 [00:00<00:03, 13.97it/s]"
     ]
    },
    {
     "name": "stdout",
     "output_type": "stream",
     "text": [
      "loss=0.001272\n",
      "\n",
      "evaluating 34\n",
      "['<bos>', 'the', 'man', 'is', 'seasoning', 'the', 'chicken', '.', '<pad>', '<pad>']\n",
      "['someone', 'man', 'is', 'on', 'to', 'water', 'with', 'the', 'the', 'the']\n"
     ]
    },
    {
     "name": "stderr",
     "output_type": "stream",
     "text": [
      "test: 100%|██████████| 50/50 [00:03<00:00, 14.02it/s]\n",
      "train:   0%|          | 2/725 [00:00<00:57, 12.51it/s]"
     ]
    },
    {
     "name": "stdout",
     "output_type": "stream",
     "text": [
      "loss=0.001349\n",
      "\n",
      "training 35\n",
      "['<bos>', 'the', 'horse', 'pooped', 'on', 'the', 'lady', 'who', 'was', 'underneath']\n",
      "['two', 'man', 'ran', 'his', 'his', 'man', 'on', '.', 'his', 'on']\n"
     ]
    },
    {
     "name": "stderr",
     "output_type": "stream",
     "text": [
      "train: 100%|██████████| 725/725 [00:57<00:00, 12.52it/s]\n",
      "test:   4%|▍         | 2/50 [00:00<00:03, 13.75it/s]"
     ]
    },
    {
     "name": "stdout",
     "output_type": "stream",
     "text": [
      "loss=0.001272\n",
      "\n",
      "evaluating 35\n",
      "['<bos>', 'the', 'man', 'is', 'seasoning', 'the', 'chicken', '.', '<pad>', '<pad>']\n",
      "['the', 'man', 'took', 'of', 'on', 'in', 'to', 'the', 'the', 'the']\n"
     ]
    },
    {
     "name": "stderr",
     "output_type": "stream",
     "text": [
      "test: 100%|██████████| 50/50 [00:03<00:00, 13.98it/s]\n",
      "train:   0%|          | 2/725 [00:00<00:57, 12.53it/s]"
     ]
    },
    {
     "name": "stdout",
     "output_type": "stream",
     "text": [
      "loss=0.001350\n",
      "\n",
      "training 36\n",
      "['<bos>', 'the', 'horse', 'pooped', 'on', 'the', 'lady', 'who', 'was', 'underneath']\n",
      "['two', 'man', 'rode', 'at', 'his', 'man', 'on', 'from', 'on', 'on']\n"
     ]
    },
    {
     "name": "stderr",
     "output_type": "stream",
     "text": [
      "train: 100%|██████████| 725/725 [00:58<00:00, 12.49it/s]\n",
      "test:   4%|▍         | 2/50 [00:00<00:03, 13.85it/s]"
     ]
    },
    {
     "name": "stdout",
     "output_type": "stream",
     "text": [
      "loss=0.001272\n",
      "\n",
      "evaluating 36\n",
      "['<bos>', 'the', 'man', 'is', 'seasoning', 'the', 'chicken', '.', '<pad>', '<pad>']\n",
      "['the', 'man', 'took', 'into', 'of', 'water', 'with', 'the', 'the', 'the']\n"
     ]
    },
    {
     "name": "stderr",
     "output_type": "stream",
     "text": [
      "test: 100%|██████████| 50/50 [00:03<00:00, 14.00it/s]\n",
      "train:   0%|          | 2/725 [00:00<00:57, 12.49it/s]"
     ]
    },
    {
     "name": "stdout",
     "output_type": "stream",
     "text": [
      "loss=0.001349\n",
      "\n",
      "training 37\n",
      "['<bos>', 'the', 'horse', 'pooped', 'on', 'the', 'lady', 'who', 'was', 'underneath']\n",
      "['two', 'man', 'was', 'his', 'his', 'man', 'with', '.', 'his', 'on']\n"
     ]
    },
    {
     "name": "stderr",
     "output_type": "stream",
     "text": [
      "train: 100%|██████████| 725/725 [00:57<00:00, 12.50it/s]\n",
      "test:   4%|▍         | 2/50 [00:00<00:03, 13.66it/s]"
     ]
    },
    {
     "name": "stdout",
     "output_type": "stream",
     "text": [
      "loss=0.001271\n",
      "\n",
      "evaluating 37\n",
      "['<bos>', 'the', 'man', 'is', 'seasoning', 'the', 'chicken', '.', '<pad>', '<pad>']\n",
      "['the', 'man', 'took', 'of', 'on', 'in', 'with', 'the', 'the', 'the']\n"
     ]
    },
    {
     "name": "stderr",
     "output_type": "stream",
     "text": [
      "test: 100%|██████████| 50/50 [00:03<00:00, 13.97it/s]\n",
      "train:   0%|          | 2/725 [00:00<00:58, 12.44it/s]"
     ]
    },
    {
     "name": "stdout",
     "output_type": "stream",
     "text": [
      "loss=0.001351\n",
      "\n",
      "training 38\n",
      "['<bos>', 'the', 'horse', 'pooped', 'on', 'the', 'lady', 'who', 'was', 'underneath']\n",
      "['the', 'man', 'was', 'at', 'his', 'man', 'and', '.', 'his', 'on']\n"
     ]
    },
    {
     "name": "stderr",
     "output_type": "stream",
     "text": [
      "train: 100%|██████████| 725/725 [00:57<00:00, 12.52it/s]\n",
      "test:   4%|▍         | 2/50 [00:00<00:03, 13.90it/s]"
     ]
    },
    {
     "name": "stdout",
     "output_type": "stream",
     "text": [
      "loss=0.001271\n",
      "\n",
      "evaluating 38\n",
      "['<bos>', 'the', 'man', 'is', 'seasoning', 'the', 'chicken', '.', '<pad>', '<pad>']\n",
      "['the', 'man', 'put', 'into', 'on', 'in', 'with', 'the', 'the', 'the']\n"
     ]
    },
    {
     "name": "stderr",
     "output_type": "stream",
     "text": [
      "test: 100%|██████████| 50/50 [00:03<00:00, 13.96it/s]\n",
      "train:   0%|          | 2/725 [00:00<00:57, 12.48it/s]"
     ]
    },
    {
     "name": "stdout",
     "output_type": "stream",
     "text": [
      "loss=0.001351\n",
      "\n",
      "training 39\n",
      "['<bos>', 'the', 'horse', 'pooped', 'on', 'the', 'lady', 'who', 'was', 'underneath']\n",
      "['the', 'couple', 'was', 'at', 'his', 'man', 'with', '.', '.', 'and']\n"
     ]
    },
    {
     "name": "stderr",
     "output_type": "stream",
     "text": [
      "train: 100%|██████████| 725/725 [00:57<00:00, 12.51it/s]\n",
      "test:   4%|▍         | 2/50 [00:00<00:03, 13.64it/s]"
     ]
    },
    {
     "name": "stdout",
     "output_type": "stream",
     "text": [
      "loss=0.001271\n",
      "\n",
      "evaluating 39\n",
      "['<bos>', 'the', 'man', 'is', 'seasoning', 'the', 'chicken', '.', '<pad>', '<pad>']\n",
      "['the', 'man', 'is', 'into', 'on', 'of', 'with', 'the', 'the', 'the']\n"
     ]
    },
    {
     "name": "stderr",
     "output_type": "stream",
     "text": [
      "test: 100%|██████████| 50/50 [00:03<00:00, 13.93it/s]\n",
      "train:   0%|          | 2/725 [00:00<00:57, 12.49it/s]"
     ]
    },
    {
     "name": "stdout",
     "output_type": "stream",
     "text": [
      "loss=0.001354\n",
      "\n",
      "training 40\n",
      "['<bos>', 'the', 'horse', 'pooped', 'on', 'the', 'lady', 'who', 'was', 'underneath']\n",
      "['the', 'man', 'was', 'at', 'his', 'man', 'with', '.', '.', '.']\n"
     ]
    },
    {
     "name": "stderr",
     "output_type": "stream",
     "text": [
      "train: 100%|██████████| 725/725 [00:58<00:00, 12.49it/s]\n",
      "test:   4%|▍         | 2/50 [00:00<00:03, 13.87it/s]"
     ]
    },
    {
     "name": "stdout",
     "output_type": "stream",
     "text": [
      "loss=0.001271\n",
      "\n",
      "evaluating 40\n",
      "['<bos>', 'the', 'man', 'is', 'seasoning', 'the', 'chicken', '.', '<pad>', '<pad>']\n",
      "['the', 'man', 'put', 'of', 'on', 'of', 'with', 'the', 'the', 'the']\n"
     ]
    },
    {
     "name": "stderr",
     "output_type": "stream",
     "text": [
      "test: 100%|██████████| 50/50 [00:03<00:00, 14.04it/s]\n",
      "train:   0%|          | 2/725 [00:00<00:57, 12.52it/s]"
     ]
    },
    {
     "name": "stdout",
     "output_type": "stream",
     "text": [
      "loss=0.001356\n",
      "\n",
      "training 41\n",
      "['<bos>', 'the', 'horse', 'pooped', 'on', 'the', 'lady', 'who', 'was', 'underneath']\n",
      "['the', 'man', 'was', 'at', 'his', 'man', 'with', '.', 'on', 'on']\n"
     ]
    },
    {
     "name": "stderr",
     "output_type": "stream",
     "text": [
      "train: 100%|██████████| 725/725 [00:57<00:00, 12.50it/s]\n",
      "test:   4%|▍         | 2/50 [00:00<00:03, 13.84it/s]"
     ]
    },
    {
     "name": "stdout",
     "output_type": "stream",
     "text": [
      "loss=0.001271\n",
      "\n",
      "evaluating 41\n",
      "['<bos>', 'the', 'man', 'is', 'seasoning', 'the', 'chicken', '.', '<pad>', '<pad>']\n",
      "['the', 'man', 'of', 'of', 'on', 'of', 'with', 'the', 'the', 'the']\n"
     ]
    },
    {
     "name": "stderr",
     "output_type": "stream",
     "text": [
      "test: 100%|██████████| 50/50 [00:03<00:00, 13.97it/s]\n",
      "train:   0%|          | 2/725 [00:00<00:58, 12.40it/s]"
     ]
    },
    {
     "name": "stdout",
     "output_type": "stream",
     "text": [
      "loss=0.001358\n",
      "\n",
      "training 42\n",
      "['<bos>', 'the', 'horse', 'pooped', 'on', 'the', 'lady', 'who', 'was', 'underneath']\n",
      "['the', 'man', 'was', 'at', 'his', 'man', 'and', '.', 'of', 'and']\n"
     ]
    },
    {
     "name": "stderr",
     "output_type": "stream",
     "text": [
      "train: 100%|██████████| 725/725 [00:58<00:00, 12.49it/s]\n",
      "test:   4%|▍         | 2/50 [00:00<00:03, 13.68it/s]"
     ]
    },
    {
     "name": "stdout",
     "output_type": "stream",
     "text": [
      "loss=0.001271\n",
      "\n",
      "evaluating 42\n",
      "['<bos>', 'the', 'man', 'is', 'seasoning', 'the', 'chicken', '.', '<pad>', '<pad>']\n",
      "['the', 'man', 'put', 'of', 'on', 'water', 'in', 'the', 'the', 'the']\n"
     ]
    },
    {
     "name": "stderr",
     "output_type": "stream",
     "text": [
      "test: 100%|██████████| 50/50 [00:03<00:00, 14.00it/s]\n",
      "train:   0%|          | 2/725 [00:00<00:58, 12.38it/s]"
     ]
    },
    {
     "name": "stdout",
     "output_type": "stream",
     "text": [
      "loss=0.001357\n",
      "\n",
      "training 43\n",
      "['<bos>', 'the', 'horse', 'pooped', 'on', 'the', 'lady', 'who', 'was', 'underneath']\n",
      "['the', 'man', 'was', 'his', 'his', 'man', '.', '.', 'of', '.']\n"
     ]
    },
    {
     "name": "stderr",
     "output_type": "stream",
     "text": [
      "train: 100%|██████████| 725/725 [00:57<00:00, 12.50it/s]\n",
      "test:   4%|▍         | 2/50 [00:00<00:03, 13.83it/s]"
     ]
    },
    {
     "name": "stdout",
     "output_type": "stream",
     "text": [
      "loss=0.001271\n",
      "\n",
      "evaluating 43\n",
      "['<bos>', 'the', 'man', 'is', 'seasoning', 'the', 'chicken', '.', '<pad>', '<pad>']\n",
      "['the', 'man', 'is', 'of', 'of', 'water', 'with', 'the', 'the', 'the']\n"
     ]
    },
    {
     "name": "stderr",
     "output_type": "stream",
     "text": [
      "test: 100%|██████████| 50/50 [00:03<00:00, 14.00it/s]\n",
      "train:   0%|          | 2/725 [00:00<00:58, 12.32it/s]"
     ]
    },
    {
     "name": "stdout",
     "output_type": "stream",
     "text": [
      "loss=0.001356\n",
      "\n",
      "training 44\n",
      "['<bos>', 'the', 'horse', 'pooped', 'on', 'the', 'lady', 'who', 'was', 'underneath']\n",
      "['the', 'man', 'ran', 'off', 'his', 'man', 'with', '.', '.', '.']\n"
     ]
    },
    {
     "name": "stderr",
     "output_type": "stream",
     "text": [
      "train: 100%|██████████| 725/725 [00:57<00:00, 12.52it/s]\n",
      "test:   4%|▍         | 2/50 [00:00<00:03, 13.83it/s]"
     ]
    },
    {
     "name": "stdout",
     "output_type": "stream",
     "text": [
      "loss=0.001271\n",
      "\n",
      "evaluating 44\n",
      "['<bos>', 'the', 'man', 'is', 'seasoning', 'the', 'chicken', '.', '<pad>', '<pad>']\n",
      "['the', 'man', 'put', 'of', 'on', 'water', 'with', 'the', 'the', 'the']\n"
     ]
    },
    {
     "name": "stderr",
     "output_type": "stream",
     "text": [
      "test: 100%|██████████| 50/50 [00:03<00:00, 14.03it/s]\n",
      "train:   0%|          | 2/725 [00:00<00:57, 12.50it/s]"
     ]
    },
    {
     "name": "stdout",
     "output_type": "stream",
     "text": [
      "loss=0.001357\n",
      "\n",
      "training 45\n",
      "['<bos>', 'the', 'horse', 'pooped', 'on', 'the', 'lady', 'who', 'was', 'underneath']\n",
      "['the', 'man', 'ran', 'at', 'his', 'man', 'of', '.', 'of', '.']\n"
     ]
    },
    {
     "name": "stderr",
     "output_type": "stream",
     "text": [
      "train: 100%|██████████| 725/725 [00:58<00:00, 12.44it/s]\n",
      "test:   4%|▍         | 2/50 [00:00<00:03, 13.59it/s]"
     ]
    },
    {
     "name": "stdout",
     "output_type": "stream",
     "text": [
      "loss=0.001271\n",
      "\n",
      "evaluating 45\n",
      "['<bos>', 'the', 'man', 'is', 'seasoning', 'the', 'chicken', '.', '<pad>', '<pad>']\n",
      "['the', 'man', 'is', 'of', 'to', 'of', 'with', 'the', 'the', 'the']\n"
     ]
    },
    {
     "name": "stderr",
     "output_type": "stream",
     "text": [
      "test: 100%|██████████| 50/50 [00:03<00:00, 13.98it/s]\n",
      "train:   0%|          | 2/725 [00:00<00:58, 12.44it/s]"
     ]
    },
    {
     "name": "stdout",
     "output_type": "stream",
     "text": [
      "loss=0.001357\n",
      "\n",
      "training 46\n",
      "['<bos>', 'the', 'horse', 'pooped', 'on', 'the', 'lady', 'who', 'was', 'underneath']\n",
      "['two', 'little', 'ran', 'at', 'his', 'man', '.', '.', 'on', 'on']\n"
     ]
    },
    {
     "name": "stderr",
     "output_type": "stream",
     "text": [
      "train: 100%|██████████| 725/725 [00:57<00:00, 12.54it/s]\n",
      "test:   4%|▍         | 2/50 [00:00<00:03, 13.61it/s]"
     ]
    },
    {
     "name": "stdout",
     "output_type": "stream",
     "text": [
      "loss=0.001271\n",
      "\n",
      "evaluating 46\n",
      "['<bos>', 'the', 'man', 'is', 'seasoning', 'the', 'chicken', '.', '<pad>', '<pad>']\n",
      "['the', 'man', 'is', 'of', 'of', 'of', 'with', 'the', 'the', 'the']\n"
     ]
    },
    {
     "name": "stderr",
     "output_type": "stream",
     "text": [
      "test: 100%|██████████| 50/50 [00:03<00:00, 14.04it/s]\n",
      "train:   0%|          | 2/725 [00:00<00:58, 12.37it/s]"
     ]
    },
    {
     "name": "stdout",
     "output_type": "stream",
     "text": [
      "loss=0.001359\n",
      "\n",
      "training 47\n",
      "['<bos>', 'the', 'horse', 'pooped', 'on', 'the', 'lady', 'who', 'was', 'underneath']\n",
      "['two', 'cat', 'ran', 'off', 'his', 'man', 'with', '.', 'of', 'on']\n"
     ]
    },
    {
     "name": "stderr",
     "output_type": "stream",
     "text": [
      "train: 100%|██████████| 725/725 [00:57<00:00, 12.54it/s]\n",
      "test:   4%|▍         | 2/50 [00:00<00:03, 13.73it/s]"
     ]
    },
    {
     "name": "stdout",
     "output_type": "stream",
     "text": [
      "loss=0.001271\n",
      "\n",
      "evaluating 47\n",
      "['<bos>', 'the', 'man', 'is', 'seasoning', 'the', 'chicken', '.', '<pad>', '<pad>']\n",
      "['the', 'man', 'put', 'of', 'on', 'of', 'in', 'the', 'the', 'the']\n"
     ]
    },
    {
     "name": "stderr",
     "output_type": "stream",
     "text": [
      "test: 100%|██████████| 50/50 [00:03<00:00, 13.95it/s]\n",
      "train:   0%|          | 2/725 [00:00<00:58, 12.44it/s]"
     ]
    },
    {
     "name": "stdout",
     "output_type": "stream",
     "text": [
      "loss=0.001357\n",
      "\n",
      "training 48\n",
      "['<bos>', 'the', 'horse', 'pooped', 'on', 'the', 'lady', 'who', 'was', 'underneath']\n",
      "['the', 'man', 'ran', 'at', 'his', 'man', 'and', '.', 'of', 'of']\n"
     ]
    },
    {
     "name": "stderr",
     "output_type": "stream",
     "text": [
      "train: 100%|██████████| 725/725 [00:57<00:00, 12.52it/s]\n",
      "test:   4%|▍         | 2/50 [00:00<00:03, 13.77it/s]"
     ]
    },
    {
     "name": "stdout",
     "output_type": "stream",
     "text": [
      "loss=0.001271\n",
      "\n",
      "evaluating 48\n",
      "['<bos>', 'the', 'man', 'is', 'seasoning', 'the', 'chicken', '.', '<pad>', '<pad>']\n",
      "['the', 'man', 'put', 'of', 'on', 'of', 'in', 'the', 'the', 'the']\n"
     ]
    },
    {
     "name": "stderr",
     "output_type": "stream",
     "text": [
      "test: 100%|██████████| 50/50 [00:03<00:00, 14.08it/s]\n",
      "train:   0%|          | 2/725 [00:00<00:57, 12.49it/s]"
     ]
    },
    {
     "name": "stdout",
     "output_type": "stream",
     "text": [
      "loss=0.001360\n",
      "\n",
      "training 49\n",
      "['<bos>', 'the', 'horse', 'pooped', 'on', 'the', 'lady', 'who', 'was', 'underneath']\n",
      "['the', 'little', 'ran', 'at', 'his', 'man', 'while', '.', 'on', 'on']\n"
     ]
    },
    {
     "name": "stderr",
     "output_type": "stream",
     "text": [
      "train: 100%|██████████| 725/725 [00:57<00:00, 12.52it/s]\n",
      "test:   4%|▍         | 2/50 [00:00<00:03, 13.90it/s]"
     ]
    },
    {
     "name": "stdout",
     "output_type": "stream",
     "text": [
      "loss=0.001271\n",
      "\n",
      "evaluating 49\n",
      "['<bos>', 'the', 'man', 'is', 'seasoning', 'the', 'chicken', '.', '<pad>', '<pad>']\n",
      "['the', 'man', 'is', 'into', 'of', 'of', 'in', 'the', 'the', 'the']\n"
     ]
    },
    {
     "name": "stderr",
     "output_type": "stream",
     "text": [
      "test: 100%|██████████| 50/50 [00:03<00:00, 14.02it/s]\n",
      "train:   0%|          | 2/725 [00:00<00:57, 12.49it/s]"
     ]
    },
    {
     "name": "stdout",
     "output_type": "stream",
     "text": [
      "loss=0.001361\n",
      "\n",
      "training 50\n",
      "['<bos>', 'the', 'horse', 'pooped', 'on', 'the', 'lady', 'who', 'was', 'underneath']\n",
      "['two', 'little', 'ran', 'at', 'his', 'man', 'on', '.', 'of', 'and']\n"
     ]
    },
    {
     "name": "stderr",
     "output_type": "stream",
     "text": [
      "train: 100%|██████████| 725/725 [00:58<00:00, 12.48it/s]\n",
      "test:   4%|▍         | 2/50 [00:00<00:03, 13.89it/s]"
     ]
    },
    {
     "name": "stdout",
     "output_type": "stream",
     "text": [
      "loss=0.001271\n",
      "\n",
      "evaluating 50\n",
      "['<bos>', 'the', 'man', 'is', 'seasoning', 'the', 'chicken', '.', '<pad>', '<pad>']\n",
      "['someone', 'man', 'is', 'on', 'on', 'of', 'with', 'the', 'the', 'the']\n"
     ]
    },
    {
     "name": "stderr",
     "output_type": "stream",
     "text": [
      "test: 100%|██████████| 50/50 [00:03<00:00, 14.07it/s]\n",
      "train:   0%|          | 2/725 [00:00<00:58, 12.40it/s]"
     ]
    },
    {
     "name": "stdout",
     "output_type": "stream",
     "text": [
      "loss=0.001359\n",
      "\n",
      "training 51\n",
      "['<bos>', 'the', 'horse', 'pooped', 'on', 'the', 'lady', 'who', 'was', 'underneath']\n",
      "['two', 'little', 'ran', 'at', 'the', 'man', 'on', '.', 'of', 'on']\n"
     ]
    },
    {
     "name": "stderr",
     "output_type": "stream",
     "text": [
      "train: 100%|██████████| 725/725 [00:57<00:00, 12.53it/s]\n",
      "test:   4%|▍         | 2/50 [00:00<00:03, 13.88it/s]"
     ]
    },
    {
     "name": "stdout",
     "output_type": "stream",
     "text": [
      "loss=0.001270\n",
      "\n",
      "evaluating 51\n",
      "['<bos>', 'the', 'man', 'is', 'seasoning', 'the', 'chicken', '.', '<pad>', '<pad>']\n",
      "['the', 'man', 'is', 'of', 'of', 'of', 'with', 'the', 'the', 'the']\n"
     ]
    },
    {
     "name": "stderr",
     "output_type": "stream",
     "text": [
      "test: 100%|██████████| 50/50 [00:03<00:00, 14.00it/s]\n",
      "train:   0%|          | 2/725 [00:00<00:58, 12.46it/s]"
     ]
    },
    {
     "name": "stdout",
     "output_type": "stream",
     "text": [
      "loss=0.001361\n",
      "\n",
      "training 52\n",
      "['<bos>', 'the', 'horse', 'pooped', 'on', 'the', 'lady', 'who', 'was', 'underneath']\n",
      "['two', 'man', 'walked', 'at', 'the', 'man', '.', '.', 'of', '.']\n"
     ]
    },
    {
     "name": "stderr",
     "output_type": "stream",
     "text": [
      "train: 100%|██████████| 725/725 [00:58<00:00, 12.45it/s]\n",
      "test:   4%|▍         | 2/50 [00:00<00:03, 13.80it/s]"
     ]
    },
    {
     "name": "stdout",
     "output_type": "stream",
     "text": [
      "loss=0.001270\n",
      "\n",
      "evaluating 52\n",
      "['<bos>', 'the', 'man', 'is', 'seasoning', 'the', 'chicken', '.', '<pad>', '<pad>']\n",
      "['the', 'man', 'is', 'of', 'of', 'of', 'in', 'the', 'the', 'the']\n"
     ]
    },
    {
     "name": "stderr",
     "output_type": "stream",
     "text": [
      "test: 100%|██████████| 50/50 [00:03<00:00, 14.03it/s]\n",
      "train:   0%|          | 2/725 [00:00<00:58, 12.28it/s]"
     ]
    },
    {
     "name": "stdout",
     "output_type": "stream",
     "text": [
      "loss=0.001364\n",
      "\n",
      "training 53\n",
      "['<bos>', 'the', 'horse', 'pooped', 'on', 'the', 'lady', 'who', 'was', 'underneath']\n",
      "['two', 'man', 'ran', 'at', 'his', 'man', '.', '.', '.', '.']\n"
     ]
    },
    {
     "name": "stderr",
     "output_type": "stream",
     "text": [
      "train: 100%|██████████| 725/725 [00:57<00:00, 12.50it/s]\n",
      "test:   4%|▍         | 2/50 [00:00<00:03, 13.59it/s]"
     ]
    },
    {
     "name": "stdout",
     "output_type": "stream",
     "text": [
      "loss=0.001270\n",
      "\n",
      "evaluating 53\n",
      "['<bos>', 'the', 'man', 'is', 'seasoning', 'the', 'chicken', '.', '<pad>', '<pad>']\n",
      "['the', 'man', 'is', 'of', 'of', 'of', 'with', 'the', 'the', 'the']\n"
     ]
    },
    {
     "name": "stderr",
     "output_type": "stream",
     "text": [
      "test: 100%|██████████| 50/50 [00:03<00:00, 13.98it/s]\n",
      "train:   0%|          | 2/725 [00:00<00:58, 12.36it/s]"
     ]
    },
    {
     "name": "stdout",
     "output_type": "stream",
     "text": [
      "loss=0.001362\n",
      "\n",
      "training 54\n",
      "['<bos>', 'the', 'horse', 'pooped', 'on', 'the', 'lady', 'who', 'was', 'underneath']\n",
      "['two', 'men', 'is', 'off', 'his', 'men', 'and', '.', '.', 'and']\n"
     ]
    },
    {
     "name": "stderr",
     "output_type": "stream",
     "text": [
      "train: 100%|██████████| 725/725 [00:58<00:00, 12.48it/s]\n",
      "test:   4%|▍         | 2/50 [00:00<00:03, 13.87it/s]"
     ]
    },
    {
     "name": "stdout",
     "output_type": "stream",
     "text": [
      "loss=0.001270\n",
      "\n",
      "evaluating 54\n",
      "['<bos>', 'the', 'man', 'is', 'seasoning', 'the', 'chicken', '.', '<pad>', '<pad>']\n",
      "['the', 'man', 'is', 'of', 'of', 'of', 'in', 'the', 'the', 'the']\n"
     ]
    },
    {
     "name": "stderr",
     "output_type": "stream",
     "text": [
      "test: 100%|██████████| 50/50 [00:03<00:00, 13.89it/s]\n",
      "train:   0%|          | 2/725 [00:00<00:57, 12.48it/s]"
     ]
    },
    {
     "name": "stdout",
     "output_type": "stream",
     "text": [
      "loss=0.001362\n",
      "\n",
      "training 55\n",
      "['<bos>', 'the', 'horse', 'pooped', 'on', 'the', 'lady', 'who', 'was', 'underneath']\n",
      "['two', 'little', 'is', 'down', 'the', 'men', 'and', '.', '.', 'and']\n"
     ]
    },
    {
     "name": "stderr",
     "output_type": "stream",
     "text": [
      "train: 100%|██████████| 725/725 [00:57<00:00, 12.51it/s]\n",
      "test:   4%|▍         | 2/50 [00:00<00:03, 13.68it/s]"
     ]
    },
    {
     "name": "stdout",
     "output_type": "stream",
     "text": [
      "loss=0.001270\n",
      "\n",
      "evaluating 55\n",
      "['<bos>', 'the', 'man', 'is', 'seasoning', 'the', 'chicken', '.', '<pad>', '<pad>']\n",
      "['the', 'man', 'put', 'the', 'the', 'the', 'with', 'the', 'the', 'the']\n"
     ]
    },
    {
     "name": "stderr",
     "output_type": "stream",
     "text": [
      "test: 100%|██████████| 50/50 [00:03<00:00, 14.00it/s]\n",
      "train:   0%|          | 2/725 [00:00<00:58, 12.40it/s]"
     ]
    },
    {
     "name": "stdout",
     "output_type": "stream",
     "text": [
      "loss=0.001364\n",
      "\n",
      "training 56\n",
      "['<bos>', 'the', 'horse', 'pooped', 'on', 'the', 'lady', 'who', 'was', 'underneath']\n",
      "['two', 'man', 'ran', 'in', 'the', 'man', 'and', '.', '.', 'and']\n"
     ]
    },
    {
     "name": "stderr",
     "output_type": "stream",
     "text": [
      "train: 100%|██████████| 725/725 [00:57<00:00, 12.53it/s]\n",
      "test:   4%|▍         | 2/50 [00:00<00:03, 13.87it/s]"
     ]
    },
    {
     "name": "stdout",
     "output_type": "stream",
     "text": [
      "loss=0.001270\n",
      "\n",
      "evaluating 56\n",
      "['<bos>', 'the', 'man', 'is', 'seasoning', 'the', 'chicken', '.', '<pad>', '<pad>']\n",
      "['the', 'man', 'is', 'the', 'with', 'the', 'with', 'the', 'the', 'the']\n"
     ]
    },
    {
     "name": "stderr",
     "output_type": "stream",
     "text": [
      "test: 100%|██████████| 50/50 [00:03<00:00, 13.95it/s]\n",
      "train:   0%|          | 2/725 [00:00<00:58, 12.46it/s]"
     ]
    },
    {
     "name": "stdout",
     "output_type": "stream",
     "text": [
      "loss=0.001364\n",
      "\n",
      "training 57\n",
      "['<bos>', 'the', 'horse', 'pooped', 'on', 'the', 'lady', 'who', 'was', 'underneath']\n",
      "['two', 'man', 'ran', 'through', 'the', 'man', '.', '.', '.', 'and']\n"
     ]
    },
    {
     "name": "stderr",
     "output_type": "stream",
     "text": [
      "train: 100%|██████████| 725/725 [00:57<00:00, 12.53it/s]\n",
      "test:   4%|▍         | 2/50 [00:00<00:03, 13.57it/s]"
     ]
    },
    {
     "name": "stdout",
     "output_type": "stream",
     "text": [
      "loss=0.001270\n",
      "\n",
      "evaluating 57\n",
      "['<bos>', 'the', 'man', 'is', 'seasoning', 'the', 'chicken', '.', '<pad>', '<pad>']\n",
      "['someone', 'man', 'is', 'the', 'on', 'the', 'in', 'the', 'the', 'the']\n"
     ]
    },
    {
     "name": "stderr",
     "output_type": "stream",
     "text": [
      "test: 100%|██████████| 50/50 [00:03<00:00, 13.98it/s]\n",
      "train:   0%|          | 2/725 [00:00<00:57, 12.51it/s]"
     ]
    },
    {
     "name": "stdout",
     "output_type": "stream",
     "text": [
      "loss=0.001365\n",
      "\n",
      "training 58\n",
      "['<bos>', 'the', 'horse', 'pooped', 'on', 'the', 'lady', 'who', 'was', 'underneath']\n",
      "['two', 'dog', 'walked', 'at', 'the', 'man', 'and', 'the', '.', '.']\n"
     ]
    },
    {
     "name": "stderr",
     "output_type": "stream",
     "text": [
      "train: 100%|██████████| 725/725 [00:57<00:00, 12.55it/s]\n",
      "test:   4%|▍         | 2/50 [00:00<00:03, 13.74it/s]"
     ]
    },
    {
     "name": "stdout",
     "output_type": "stream",
     "text": [
      "loss=0.001270\n",
      "\n",
      "evaluating 58\n",
      "['<bos>', 'the', 'man', 'is', 'seasoning', 'the', 'chicken', '.', '<pad>', '<pad>']\n",
      "['someone', 'man', 'is', 'the', 'the', 'the', 'with', 'the', 'the', 'the']\n"
     ]
    },
    {
     "name": "stderr",
     "output_type": "stream",
     "text": [
      "test: 100%|██████████| 50/50 [00:03<00:00, 13.87it/s]\n",
      "train:   0%|          | 2/725 [00:00<00:59, 12.25it/s]"
     ]
    },
    {
     "name": "stdout",
     "output_type": "stream",
     "text": [
      "loss=0.001364\n",
      "\n",
      "training 59\n",
      "['<bos>', 'the', 'horse', 'pooped', 'on', 'the', 'lady', 'who', 'was', 'underneath']\n",
      "['two', 'dog', 'ran', 'through', 'the', 'man', 'and', '.', '.', '.']\n"
     ]
    },
    {
     "name": "stderr",
     "output_type": "stream",
     "text": [
      "train: 100%|██████████| 725/725 [00:57<00:00, 12.53it/s]\n",
      "test:   4%|▍         | 2/50 [00:00<00:03, 13.64it/s]"
     ]
    },
    {
     "name": "stdout",
     "output_type": "stream",
     "text": [
      "loss=0.001270\n",
      "\n",
      "evaluating 59\n",
      "['<bos>', 'the', 'man', 'is', 'seasoning', 'the', 'chicken', '.', '<pad>', '<pad>']\n",
      "['someone', 'man', 'is', 'the', 'the', 'the', 'with', 'the', 'the', 'the']\n"
     ]
    },
    {
     "name": "stderr",
     "output_type": "stream",
     "text": [
      "test: 100%|██████████| 50/50 [00:03<00:00, 13.88it/s]\n",
      "train:   0%|          | 2/725 [00:00<00:58, 12.36it/s]"
     ]
    },
    {
     "name": "stdout",
     "output_type": "stream",
     "text": [
      "loss=0.001364\n",
      "\n",
      "training 60\n",
      "['<bos>', 'the', 'horse', 'pooped', 'on', 'the', 'lady', 'who', 'was', 'underneath']\n",
      "['two', 'dog', 'was', 'through', 'the', 'man', 'and', '.', '.', 'and']\n"
     ]
    },
    {
     "name": "stderr",
     "output_type": "stream",
     "text": [
      "train: 100%|██████████| 725/725 [00:57<00:00, 12.50it/s]\n",
      "test:   4%|▍         | 2/50 [00:00<00:03, 13.89it/s]"
     ]
    },
    {
     "name": "stdout",
     "output_type": "stream",
     "text": [
      "loss=0.001270\n",
      "\n",
      "evaluating 60\n",
      "['<bos>', 'the', 'man', 'is', 'seasoning', 'the', 'chicken', '.', '<pad>', '<pad>']\n",
      "['someone', 'man', 'put', 'the', 'the', 'the', 'in', 'the', 'the', 'the']\n"
     ]
    },
    {
     "name": "stderr",
     "output_type": "stream",
     "text": [
      "test: 100%|██████████| 50/50 [00:03<00:00, 14.02it/s]\n",
      "train:   0%|          | 2/725 [00:00<00:59, 12.24it/s]"
     ]
    },
    {
     "name": "stdout",
     "output_type": "stream",
     "text": [
      "loss=0.001364\n",
      "\n",
      "training 61\n",
      "['<bos>', 'the', 'horse', 'pooped', 'on', 'the', 'lady', 'who', 'was', 'underneath']\n",
      "['two', 'man', 'was', 'at', 'his', 'man', 'and', '.', '.', 'and']\n"
     ]
    },
    {
     "name": "stderr",
     "output_type": "stream",
     "text": [
      "train: 100%|██████████| 725/725 [00:58<00:00, 12.40it/s]\n",
      "test:   4%|▍         | 2/50 [00:00<00:03, 13.87it/s]"
     ]
    },
    {
     "name": "stdout",
     "output_type": "stream",
     "text": [
      "loss=0.001270\n",
      "\n",
      "evaluating 61\n",
      "['<bos>', 'the', 'man', 'is', 'seasoning', 'the', 'chicken', '.', '<pad>', '<pad>']\n",
      "['someone', 'man', 'put', 'the', 'the', 'the', 'with', 'the', 'the', 'the']\n"
     ]
    },
    {
     "name": "stderr",
     "output_type": "stream",
     "text": [
      "test: 100%|██████████| 50/50 [00:03<00:00, 13.99it/s]\n",
      "train:   0%|          | 2/725 [00:00<00:57, 12.48it/s]"
     ]
    },
    {
     "name": "stdout",
     "output_type": "stream",
     "text": [
      "loss=0.001363\n",
      "\n",
      "training 62\n",
      "['<bos>', 'the', 'horse', 'pooped', 'on', 'the', 'lady', 'who', 'was', 'underneath']\n",
      "['two', 'man', 'ran', 'at', 'the', 'man', 'and', '.', '.', 'and']\n"
     ]
    },
    {
     "name": "stderr",
     "output_type": "stream",
     "text": [
      "train: 100%|██████████| 725/725 [00:57<00:00, 12.56it/s]\n",
      "test:   4%|▍         | 2/50 [00:00<00:03, 13.73it/s]"
     ]
    },
    {
     "name": "stdout",
     "output_type": "stream",
     "text": [
      "loss=0.001270\n",
      "\n",
      "evaluating 62\n",
      "['<bos>', 'the', 'man', 'is', 'seasoning', 'the', 'chicken', '.', '<pad>', '<pad>']\n",
      "['the', 'man', 'poured', 'the', 'on', 'the', 'the', 'the', 'the', 'the']\n"
     ]
    },
    {
     "name": "stderr",
     "output_type": "stream",
     "text": [
      "test: 100%|██████████| 50/50 [00:03<00:00, 13.89it/s]\n",
      "train:   0%|          | 2/725 [00:00<00:58, 12.43it/s]"
     ]
    },
    {
     "name": "stdout",
     "output_type": "stream",
     "text": [
      "loss=0.001364\n",
      "\n",
      "training 63\n",
      "['<bos>', 'the', 'horse', 'pooped', 'on', 'the', 'lady', 'who', 'was', 'underneath']\n",
      "['two', 'man', 'ran', 'through', 'the', 'man', 'and', '.', 'a', 'on']\n"
     ]
    },
    {
     "name": "stderr",
     "output_type": "stream",
     "text": [
      "train: 100%|██████████| 725/725 [00:57<00:00, 12.53it/s]\n",
      "test:   4%|▍         | 2/50 [00:00<00:03, 13.84it/s]"
     ]
    },
    {
     "name": "stdout",
     "output_type": "stream",
     "text": [
      "loss=0.001270\n",
      "\n",
      "evaluating 63\n",
      "['<bos>', 'the', 'man', 'is', 'seasoning', 'the', 'chicken', '.', '<pad>', '<pad>']\n",
      "['someone', 'man', 'is', 'the', 'the', 'the', 'with', 'the', 'the', 'the']\n"
     ]
    },
    {
     "name": "stderr",
     "output_type": "stream",
     "text": [
      "test: 100%|██████████| 50/50 [00:03<00:00, 13.96it/s]\n",
      "train:   0%|          | 2/725 [00:00<00:59, 12.23it/s]"
     ]
    },
    {
     "name": "stdout",
     "output_type": "stream",
     "text": [
      "loss=0.001365\n",
      "\n",
      "training 64\n",
      "['<bos>', 'the', 'horse', 'pooped', 'on', 'the', 'lady', 'who', 'was', 'underneath']\n",
      "['two', 'man', 'walked', 'in', 'the', 'man', '.', '.', '.', '.']\n"
     ]
    },
    {
     "name": "stderr",
     "output_type": "stream",
     "text": [
      "train: 100%|██████████| 725/725 [00:57<00:00, 12.53it/s]\n",
      "test:   4%|▍         | 2/50 [00:00<00:03, 13.76it/s]"
     ]
    },
    {
     "name": "stdout",
     "output_type": "stream",
     "text": [
      "loss=0.001270\n",
      "\n",
      "evaluating 64\n",
      "['<bos>', 'the', 'man', 'is', 'seasoning', 'the', 'chicken', '.', '<pad>', '<pad>']\n",
      "['someone', 'man', 'is', 'the', 'the', 'the', 'in', 'the', 'the', 'the']\n"
     ]
    },
    {
     "name": "stderr",
     "output_type": "stream",
     "text": [
      "test: 100%|██████████| 50/50 [00:03<00:00, 14.00it/s]\n",
      "train:   0%|          | 2/725 [00:00<00:57, 12.47it/s]"
     ]
    },
    {
     "name": "stdout",
     "output_type": "stream",
     "text": [
      "loss=0.001363\n",
      "\n",
      "training 65\n",
      "['<bos>', 'the', 'horse', 'pooped', 'on', 'the', 'lady', 'who', 'was', 'underneath']\n",
      "['two', 'man', 'walked', 'in', 'his', 'man', 'and', '.', '.', 'on']\n"
     ]
    },
    {
     "name": "stderr",
     "output_type": "stream",
     "text": [
      "train: 100%|██████████| 725/725 [00:57<00:00, 12.51it/s]\n",
      "test:   4%|▍         | 2/50 [00:00<00:03, 13.88it/s]"
     ]
    },
    {
     "name": "stdout",
     "output_type": "stream",
     "text": [
      "loss=0.001270\n",
      "\n",
      "evaluating 65\n",
      "['<bos>', 'the', 'man', 'is', 'seasoning', 'the', 'chicken', '.', '<pad>', '<pad>']\n",
      "['the', 'man', 'is', 'the', 'on', 'the', 'of', 'the', 'the', 'the']\n"
     ]
    },
    {
     "name": "stderr",
     "output_type": "stream",
     "text": [
      "test: 100%|██████████| 50/50 [00:03<00:00, 13.95it/s]\n",
      "train:   0%|          | 2/725 [00:00<00:58, 12.43it/s]"
     ]
    },
    {
     "name": "stdout",
     "output_type": "stream",
     "text": [
      "loss=0.001363\n",
      "\n",
      "training 66\n",
      "['<bos>', 'the', 'horse', 'pooped', 'on', 'the', 'lady', 'who', 'was', 'underneath']\n",
      "['two', 'man', 'ran', 'at', 'his', 'man', '.', '.', 'a', 'on']\n"
     ]
    },
    {
     "name": "stderr",
     "output_type": "stream",
     "text": [
      "train: 100%|██████████| 725/725 [00:57<00:00, 12.53it/s]\n",
      "test:   4%|▍         | 2/50 [00:00<00:03, 13.81it/s]"
     ]
    },
    {
     "name": "stdout",
     "output_type": "stream",
     "text": [
      "loss=0.001270\n",
      "\n",
      "evaluating 66\n",
      "['<bos>', 'the', 'man', 'is', 'seasoning', 'the', 'chicken', '.', '<pad>', '<pad>']\n",
      "['the', 'man', 'is', 'the', 'on', 'the', 'of', 'the', 'the', 'the']\n"
     ]
    },
    {
     "name": "stderr",
     "output_type": "stream",
     "text": [
      "test: 100%|██████████| 50/50 [00:03<00:00, 13.97it/s]\n",
      "train:   0%|          | 2/725 [00:00<00:58, 12.46it/s]"
     ]
    },
    {
     "name": "stdout",
     "output_type": "stream",
     "text": [
      "loss=0.001364\n",
      "\n",
      "training 67\n",
      "['<bos>', 'the', 'horse', 'pooped', 'on', 'the', 'lady', 'who', 'was', 'underneath']\n",
      "['the', 'man', 'ran', 'in', 'his', 'man', 'on', '.', '.', 'on']\n"
     ]
    },
    {
     "name": "stderr",
     "output_type": "stream",
     "text": [
      "train: 100%|██████████| 725/725 [00:57<00:00, 12.51it/s]\n",
      "test:   4%|▍         | 2/50 [00:00<00:03, 13.60it/s]"
     ]
    },
    {
     "name": "stdout",
     "output_type": "stream",
     "text": [
      "loss=0.001270\n",
      "\n",
      "evaluating 67\n",
      "['<bos>', 'the', 'man', 'is', 'seasoning', 'the', 'chicken', '.', '<pad>', '<pad>']\n",
      "['someone', 'man', 'is', 'the', 'on', 'the', 'of', 'the', 'the', 'the']\n"
     ]
    },
    {
     "name": "stderr",
     "output_type": "stream",
     "text": [
      "test: 100%|██████████| 50/50 [00:03<00:00, 14.03it/s]\n",
      "train:   0%|          | 2/725 [00:00<00:58, 12.27it/s]"
     ]
    },
    {
     "name": "stdout",
     "output_type": "stream",
     "text": [
      "loss=0.001365\n",
      "\n",
      "training 68\n",
      "['<bos>', 'the', 'horse', 'pooped', 'on', 'the', 'lady', 'who', 'was', 'underneath']\n",
      "['two', 'man', 'was', 'in', 'his', 'man', 'and', 'the', 'the', 'and']\n"
     ]
    },
    {
     "name": "stderr",
     "output_type": "stream",
     "text": [
      "train: 100%|██████████| 725/725 [00:58<00:00, 12.47it/s]\n",
      "test:   4%|▍         | 2/50 [00:00<00:03, 13.62it/s]"
     ]
    },
    {
     "name": "stdout",
     "output_type": "stream",
     "text": [
      "loss=0.001270\n",
      "\n",
      "evaluating 68\n",
      "['<bos>', 'the', 'man', 'is', 'seasoning', 'the', 'chicken', '.', '<pad>', '<pad>']\n",
      "['someone', 'man', 'is', 'the', 'the', 'the', 'in', 'the', 'the', 'the']\n"
     ]
    },
    {
     "name": "stderr",
     "output_type": "stream",
     "text": [
      "test: 100%|██████████| 50/50 [00:03<00:00, 14.00it/s]\n",
      "train:   0%|          | 2/725 [00:00<00:58, 12.40it/s]"
     ]
    },
    {
     "name": "stdout",
     "output_type": "stream",
     "text": [
      "loss=0.001365\n",
      "\n",
      "training 69\n",
      "['<bos>', 'the', 'horse', 'pooped', 'on', 'the', 'lady', 'who', 'was', 'underneath']\n",
      "['two', 'man', 'walked', 'in', 'his', 'man', 'and', 'a', 'a', '.']\n"
     ]
    },
    {
     "name": "stderr",
     "output_type": "stream",
     "text": [
      "train: 100%|██████████| 725/725 [00:57<00:00, 12.54it/s]\n",
      "test:   4%|▍         | 2/50 [00:00<00:03, 13.82it/s]"
     ]
    },
    {
     "name": "stdout",
     "output_type": "stream",
     "text": [
      "loss=0.001270\n",
      "\n",
      "evaluating 69\n",
      "['<bos>', 'the', 'man', 'is', 'seasoning', 'the', 'chicken', '.', '<pad>', '<pad>']\n",
      "['someone', 'man', 'is', 'a', 'the', 'a', 'in', 'the', 'the', 'the']\n"
     ]
    },
    {
     "name": "stderr",
     "output_type": "stream",
     "text": [
      "test: 100%|██████████| 50/50 [00:03<00:00, 14.04it/s]\n",
      "train:   0%|          | 2/725 [00:00<00:58, 12.38it/s]"
     ]
    },
    {
     "name": "stdout",
     "output_type": "stream",
     "text": [
      "loss=0.001365\n",
      "\n",
      "training 70\n",
      "['<bos>', 'the', 'horse', 'pooped', 'on', 'the', 'lady', 'who', 'was', 'underneath']\n",
      "['two', 'man', 'was', 'in', 'his', 'man', '.', 'the', 'the', 'in']\n"
     ]
    },
    {
     "name": "stderr",
     "output_type": "stream",
     "text": [
      "train: 100%|██████████| 725/725 [00:57<00:00, 12.54it/s]\n",
      "test:   4%|▍         | 2/50 [00:00<00:03, 13.72it/s]"
     ]
    },
    {
     "name": "stdout",
     "output_type": "stream",
     "text": [
      "loss=0.001270\n",
      "\n",
      "evaluating 70\n",
      "['<bos>', 'the', 'man', 'is', 'seasoning', 'the', 'chicken', '.', '<pad>', '<pad>']\n",
      "['someone', 'man', 'put', 'a', 'on', 'a', 'with', 'the', 'the', 'the']\n"
     ]
    },
    {
     "name": "stderr",
     "output_type": "stream",
     "text": [
      "test: 100%|██████████| 50/50 [00:03<00:00, 13.99it/s]\n",
      "train:   0%|          | 2/725 [00:00<00:58, 12.42it/s]"
     ]
    },
    {
     "name": "stdout",
     "output_type": "stream",
     "text": [
      "loss=0.001362\n",
      "\n",
      "training 71\n",
      "['<bos>', 'the', 'horse', 'pooped', 'on', 'the', 'lady', 'who', 'was', 'underneath']\n",
      "['two', 'man', 'was', 'in', 'the', 'man', 'and', 'a', 'a', 'and']\n"
     ]
    },
    {
     "name": "stderr",
     "output_type": "stream",
     "text": [
      "train: 100%|██████████| 725/725 [00:57<00:00, 12.53it/s]\n",
      "test:   4%|▍         | 2/50 [00:00<00:03, 13.77it/s]"
     ]
    },
    {
     "name": "stdout",
     "output_type": "stream",
     "text": [
      "loss=0.001270\n",
      "\n",
      "evaluating 71\n",
      "['<bos>', 'the', 'man', 'is', 'seasoning', 'the', 'chicken', '.', '<pad>', '<pad>']\n",
      "['someone', 'man', 'put', 'the', 'the', 'the', 'in', 'the', 'the', 'the']\n"
     ]
    },
    {
     "name": "stderr",
     "output_type": "stream",
     "text": [
      "test: 100%|██████████| 50/50 [00:03<00:00, 14.04it/s]\n",
      "train:   0%|          | 2/725 [00:00<00:58, 12.37it/s]"
     ]
    },
    {
     "name": "stdout",
     "output_type": "stream",
     "text": [
      "loss=0.001364\n",
      "\n",
      "training 72\n",
      "['<bos>', 'the', 'horse', 'pooped', 'on', 'the', 'lady', 'who', 'was', 'underneath']\n",
      "['two', 'man', 'walked', 'down', 'his', 'man', 'and', '.', 'the', 'in']\n"
     ]
    },
    {
     "name": "stderr",
     "output_type": "stream",
     "text": [
      "train: 100%|██████████| 725/725 [00:58<00:00, 12.48it/s]\n",
      "test:   4%|▍         | 2/50 [00:00<00:03, 13.74it/s]"
     ]
    },
    {
     "name": "stdout",
     "output_type": "stream",
     "text": [
      "loss=0.001270\n",
      "\n",
      "evaluating 72\n",
      "['<bos>', 'the', 'man', 'is', 'seasoning', 'the', 'chicken', '.', '<pad>', '<pad>']\n",
      "['someone', 'man', 'is', 'the', 'to', 'the', 'in', 'the', 'the', 'the']\n"
     ]
    },
    {
     "name": "stderr",
     "output_type": "stream",
     "text": [
      "test: 100%|██████████| 50/50 [00:03<00:00, 13.97it/s]\n",
      "train:   0%|          | 2/725 [00:00<00:58, 12.38it/s]"
     ]
    },
    {
     "name": "stdout",
     "output_type": "stream",
     "text": [
      "loss=0.001366\n",
      "\n",
      "training 73\n",
      "['<bos>', 'the', 'horse', 'pooped', 'on', 'the', 'lady', 'who', 'was', 'underneath']\n",
      "['two', 'man', 'is', 'through', 'the', 'man', 'and', 'the', 'the', 'and']\n"
     ]
    },
    {
     "name": "stderr",
     "output_type": "stream",
     "text": [
      "train: 100%|██████████| 725/725 [00:58<00:00, 12.50it/s]\n",
      "test:   4%|▍         | 2/50 [00:00<00:03, 13.90it/s]"
     ]
    },
    {
     "name": "stdout",
     "output_type": "stream",
     "text": [
      "loss=0.001270\n",
      "\n",
      "evaluating 73\n",
      "['<bos>', 'the', 'man', 'is', 'seasoning', 'the', 'chicken', '.', '<pad>', '<pad>']\n",
      "['someone', 'man', 'is', 'the', 'to', 'the', 'in', 'the', 'the', 'the']\n"
     ]
    },
    {
     "name": "stderr",
     "output_type": "stream",
     "text": [
      "test: 100%|██████████| 50/50 [00:03<00:00, 14.07it/s]\n",
      "train:   0%|          | 2/725 [00:00<00:57, 12.57it/s]"
     ]
    },
    {
     "name": "stdout",
     "output_type": "stream",
     "text": [
      "loss=0.001362\n",
      "\n",
      "training 74\n",
      "['<bos>', 'the', 'horse', 'pooped', 'on', 'the', 'lady', 'who', 'was', 'underneath']\n",
      "['two', 'man', 'rode', 'at', 'his', 'man', 'on', '.', 'a', 'on']\n"
     ]
    },
    {
     "name": "stderr",
     "output_type": "stream",
     "text": [
      "train: 100%|██████████| 725/725 [00:58<00:00, 12.44it/s]\n",
      "test:   4%|▍         | 2/50 [00:00<00:03, 13.91it/s]"
     ]
    },
    {
     "name": "stdout",
     "output_type": "stream",
     "text": [
      "loss=0.001270\n",
      "\n",
      "evaluating 74\n",
      "['<bos>', 'the', 'man', 'is', 'seasoning', 'the', 'chicken', '.', '<pad>', '<pad>']\n",
      "['the', 'man', 'is', 'the', 'on', 'a', 'in', 'the', 'the', 'the']\n"
     ]
    },
    {
     "name": "stderr",
     "output_type": "stream",
     "text": [
      "test: 100%|██████████| 50/50 [00:03<00:00, 14.07it/s]\n",
      "train:   0%|          | 2/725 [00:00<00:58, 12.42it/s]"
     ]
    },
    {
     "name": "stdout",
     "output_type": "stream",
     "text": [
      "loss=0.001364\n",
      "\n",
      "training 75\n",
      "['<bos>', 'the', 'horse', 'pooped', 'on', 'the', 'lady', 'who', 'was', 'underneath']\n",
      "['two', 'man', 'played', 'in', 'his', 'man', '.', '.', 'a', '.']\n"
     ]
    },
    {
     "name": "stderr",
     "output_type": "stream",
     "text": [
      "train: 100%|██████████| 725/725 [00:57<00:00, 12.51it/s]\n",
      "test:   4%|▍         | 2/50 [00:00<00:03, 13.84it/s]"
     ]
    },
    {
     "name": "stdout",
     "output_type": "stream",
     "text": [
      "loss=0.001270\n",
      "\n",
      "evaluating 75\n",
      "['<bos>', 'the', 'man', 'is', 'seasoning', 'the', 'chicken', '.', '<pad>', '<pad>']\n",
      "['someone', 'man', 'is', 'the', 'the', 'a', 'with', 'the', 'the', 'the']\n"
     ]
    },
    {
     "name": "stderr",
     "output_type": "stream",
     "text": [
      "test: 100%|██████████| 50/50 [00:03<00:00, 14.00it/s]\n",
      "train:   0%|          | 2/725 [00:00<00:57, 12.47it/s]"
     ]
    },
    {
     "name": "stdout",
     "output_type": "stream",
     "text": [
      "loss=0.001364\n",
      "\n",
      "training 76\n",
      "['<bos>', 'the', 'horse', 'pooped', 'on', 'the', 'lady', 'who', 'was', 'underneath']\n",
      "['two', 'man', 'is', 'in', 'the', 'man', '.', 'was', '.', 'in']\n"
     ]
    },
    {
     "name": "stderr",
     "output_type": "stream",
     "text": [
      "train: 100%|██████████| 725/725 [00:57<00:00, 12.51it/s]\n",
      "test:   4%|▍         | 2/50 [00:00<00:03, 13.89it/s]"
     ]
    },
    {
     "name": "stdout",
     "output_type": "stream",
     "text": [
      "loss=0.001270\n",
      "\n",
      "evaluating 76\n",
      "['<bos>', 'the', 'man', 'is', 'seasoning', 'the', 'chicken', '.', '<pad>', '<pad>']\n",
      "['someone', 'man', 'put', 'a', 'the', 'a', 'with', 'the', 'the', 'the']\n"
     ]
    },
    {
     "name": "stderr",
     "output_type": "stream",
     "text": [
      "test: 100%|██████████| 50/50 [00:03<00:00, 14.03it/s]\n",
      "train:   0%|          | 2/725 [00:00<00:58, 12.45it/s]"
     ]
    },
    {
     "name": "stdout",
     "output_type": "stream",
     "text": [
      "loss=0.001369\n",
      "\n",
      "training 77\n",
      "['<bos>', 'the', 'horse', 'pooped', 'on', 'the', 'lady', 'who', 'was', 'underneath']\n",
      "['two', 'man', 'played', 'in', 'the', 'man', 'on', '.', '.', 'on']\n"
     ]
    },
    {
     "name": "stderr",
     "output_type": "stream",
     "text": [
      "train: 100%|██████████| 725/725 [00:58<00:00, 12.48it/s]\n",
      "test:   4%|▍         | 2/50 [00:00<00:03, 13.83it/s]"
     ]
    },
    {
     "name": "stdout",
     "output_type": "stream",
     "text": [
      "loss=0.001270\n",
      "\n",
      "evaluating 77\n",
      "['<bos>', 'the', 'man', 'is', 'seasoning', 'the', 'chicken', '.', '<pad>', '<pad>']\n",
      "['someone', 'man', 'put', 'the', 'the', 'the', 'in', 'the', 'the', 'the']\n"
     ]
    },
    {
     "name": "stderr",
     "output_type": "stream",
     "text": [
      "test: 100%|██████████| 50/50 [00:03<00:00, 13.99it/s]\n",
      "train:   0%|          | 2/725 [00:00<00:58, 12.46it/s]"
     ]
    },
    {
     "name": "stdout",
     "output_type": "stream",
     "text": [
      "loss=0.001364\n",
      "\n",
      "training 78\n",
      "['<bos>', 'the', 'horse', 'pooped', 'on', 'the', 'lady', 'who', 'was', 'underneath']\n",
      "['men', 'man', 'is', 'at', 'the', 'man', '.', '.', '.', '.']\n"
     ]
    },
    {
     "name": "stderr",
     "output_type": "stream",
     "text": [
      "train: 100%|██████████| 725/725 [00:58<00:00, 12.49it/s]\n",
      "test:   4%|▍         | 2/50 [00:00<00:03, 13.89it/s]"
     ]
    },
    {
     "name": "stdout",
     "output_type": "stream",
     "text": [
      "loss=0.001270\n",
      "\n",
      "evaluating 78\n",
      "['<bos>', 'the', 'man', 'is', 'seasoning', 'the', 'chicken', '.', '<pad>', '<pad>']\n",
      "['two', 'man', 'put', 'a', 'the', 'the', 'in', 'the', 'the', 'the']\n"
     ]
    },
    {
     "name": "stderr",
     "output_type": "stream",
     "text": [
      "test: 100%|██████████| 50/50 [00:03<00:00, 13.97it/s]\n",
      "train:   0%|          | 2/725 [00:00<00:58, 12.38it/s]"
     ]
    },
    {
     "name": "stdout",
     "output_type": "stream",
     "text": [
      "loss=0.001365\n",
      "\n",
      "training 79\n",
      "['<bos>', 'the', 'horse', 'pooped', 'on', 'the', 'lady', 'who', 'was', 'underneath']\n",
      "['two', 'man', 'is', 'at', 'his', 'man', '.', '.', 'a', '.']\n"
     ]
    },
    {
     "name": "stderr",
     "output_type": "stream",
     "text": [
      "train: 100%|██████████| 725/725 [00:58<00:00, 12.48it/s]\n",
      "test:   4%|▍         | 2/50 [00:00<00:03, 13.96it/s]"
     ]
    },
    {
     "name": "stdout",
     "output_type": "stream",
     "text": [
      "loss=0.001270\n",
      "\n",
      "evaluating 79\n",
      "['<bos>', 'the', 'man', 'is', 'seasoning', 'the', 'chicken', '.', '<pad>', '<pad>']\n",
      "['two', 'man', 'put', 'the', 'the', 'the', 'in', 'the', 'the', 'the']\n"
     ]
    },
    {
     "name": "stderr",
     "output_type": "stream",
     "text": [
      "test: 100%|██████████| 50/50 [00:03<00:00, 14.04it/s]\n",
      "train:   0%|          | 2/725 [00:00<00:58, 12.30it/s]"
     ]
    },
    {
     "name": "stdout",
     "output_type": "stream",
     "text": [
      "loss=0.001367\n",
      "\n",
      "training 80\n",
      "['<bos>', 'the', 'horse', 'pooped', 'on', 'the', 'lady', 'who', 'was', 'underneath']\n",
      "['two', 'couple', 'was', 'off', 'his', 'man', 'and', '.', 'a', '.']\n"
     ]
    },
    {
     "name": "stderr",
     "output_type": "stream",
     "text": [
      "train: 100%|██████████| 725/725 [00:58<00:00, 12.49it/s]\n",
      "test:   4%|▍         | 2/50 [00:00<00:03, 13.75it/s]"
     ]
    },
    {
     "name": "stdout",
     "output_type": "stream",
     "text": [
      "loss=0.001270\n",
      "\n",
      "evaluating 80\n",
      "['<bos>', 'the', 'man', 'is', 'seasoning', 'the', 'chicken', '.', '<pad>', '<pad>']\n",
      "['someone', 'man', 'put', 'the', 'the', 'the', 'in', 'the', 'the', 'the']\n"
     ]
    },
    {
     "name": "stderr",
     "output_type": "stream",
     "text": [
      "test: 100%|██████████| 50/50 [00:03<00:00, 13.92it/s]\n",
      "train:   0%|          | 2/725 [00:00<00:57, 12.49it/s]"
     ]
    },
    {
     "name": "stdout",
     "output_type": "stream",
     "text": [
      "loss=0.001366\n",
      "\n",
      "training 81\n",
      "['<bos>', 'the', 'horse', 'pooped', 'on', 'the', 'lady', 'who', 'was', 'underneath']\n",
      "['two', 'man', 'ran', 'to', 'his', 'man', '.', '.', 'a', '.']\n"
     ]
    },
    {
     "name": "stderr",
     "output_type": "stream",
     "text": [
      "train: 100%|██████████| 725/725 [00:57<00:00, 12.54it/s]\n",
      "test:   4%|▍         | 2/50 [00:00<00:03, 13.94it/s]"
     ]
    },
    {
     "name": "stdout",
     "output_type": "stream",
     "text": [
      "loss=0.001270\n",
      "\n",
      "evaluating 81\n",
      "['<bos>', 'the', 'man', 'is', 'seasoning', 'the', 'chicken', '.', '<pad>', '<pad>']\n",
      "['someone', 'man', 'is', 'the', 'the', 'the', 'in', 'the', 'the', 'the']\n"
     ]
    },
    {
     "name": "stderr",
     "output_type": "stream",
     "text": [
      "test: 100%|██████████| 50/50 [00:03<00:00, 14.10it/s]\n",
      "train:   0%|          | 2/725 [00:00<00:58, 12.43it/s]"
     ]
    },
    {
     "name": "stdout",
     "output_type": "stream",
     "text": [
      "loss=0.001369\n",
      "\n",
      "training 82\n",
      "['<bos>', 'the', 'horse', 'pooped', 'on', 'the', 'lady', 'who', 'was', 'underneath']\n",
      "['two', 'man', 'played', 'to', 'his', 'man', 'and', '.', 'a', '.']\n"
     ]
    },
    {
     "name": "stderr",
     "output_type": "stream",
     "text": [
      "train: 100%|██████████| 725/725 [00:57<00:00, 12.56it/s]\n",
      "test:   4%|▍         | 2/50 [00:00<00:03, 13.88it/s]"
     ]
    },
    {
     "name": "stdout",
     "output_type": "stream",
     "text": [
      "loss=0.001270\n",
      "\n",
      "evaluating 82\n",
      "['<bos>', 'the', 'man', 'is', 'seasoning', 'the', 'chicken', '.', '<pad>', '<pad>']\n",
      "['someone', 'man', 'is', 'the', 'the', 'the', 'in', 'the', 'the', 'the']\n"
     ]
    },
    {
     "name": "stderr",
     "output_type": "stream",
     "text": [
      "test: 100%|██████████| 50/50 [00:03<00:00, 14.05it/s]\n",
      "train:   0%|          | 2/725 [00:00<00:57, 12.49it/s]"
     ]
    },
    {
     "name": "stdout",
     "output_type": "stream",
     "text": [
      "loss=0.001367\n",
      "\n",
      "training 83\n",
      "['<bos>', 'the', 'horse', 'pooped', 'on', 'the', 'lady', 'who', 'was', 'underneath']\n",
      "['two', 'boy', 'ran', 'off', 'his', 'man', 'and', 'a', 'a', '.']\n"
     ]
    },
    {
     "name": "stderr",
     "output_type": "stream",
     "text": [
      "train: 100%|██████████| 725/725 [00:57<00:00, 12.57it/s]\n",
      "test:   4%|▍         | 2/50 [00:00<00:03, 13.81it/s]"
     ]
    },
    {
     "name": "stdout",
     "output_type": "stream",
     "text": [
      "loss=0.001270\n",
      "\n",
      "evaluating 83\n",
      "['<bos>', 'the', 'man', 'is', 'seasoning', 'the', 'chicken', '.', '<pad>', '<pad>']\n",
      "['someone', 'man', 'put', 'the', 'the', 'the', 'with', 'the', 'the', 'the']\n"
     ]
    },
    {
     "name": "stderr",
     "output_type": "stream",
     "text": [
      "test: 100%|██████████| 50/50 [00:03<00:00, 14.14it/s]\n",
      "train:   0%|          | 2/725 [00:00<00:57, 12.54it/s]"
     ]
    },
    {
     "name": "stdout",
     "output_type": "stream",
     "text": [
      "loss=0.001366\n",
      "\n",
      "training 84\n",
      "['<bos>', 'the', 'horse', 'pooped', 'on', 'the', 'lady', 'who', 'was', 'underneath']\n",
      "['two', 'man', 'is', 'off', 'his', 'man', 'on', 'a', 'a', 'the']\n"
     ]
    },
    {
     "name": "stderr",
     "output_type": "stream",
     "text": [
      "train:  47%|████▋     | 338/725 [00:26<00:30, 12.58it/s]"
     ]
    }
   ],
   "source": [
    "epoch = 0;\n",
    "max_epochs = 100  # how many epochs to train for\n",
    "while epoch < max_epochs:\n",
    "    # train and evaluate train score\n",
    "    print('training %i' % epoch)\n",
    "\n",
    "    # train epoch\n",
    "    dataloader = torch.utils.data.DataLoader(datas, batch_size = batch_size, collate_fn = my_collate)\n",
    "    log_train = _run_epoch(dataloader, True, model, optimizer, loss_function)\n",
    "\n",
    "    # test epoch\n",
    "    print('evaluating %i' % epoch)\n",
    "    dataloader = torch.utils.data.DataLoader(valid_datas, batch_size = batch_size, collate_fn=my_collate)\n",
    "    log_valid = _run_epoch(dataloader, False, model, optimizer, loss_function)\n",
    "\n",
    "    epoch += 1\n",
    "\n",
    "\n",
    "\n"
   ]
  },
  {
   "cell_type": "code",
   "execution_count": null,
   "metadata": {},
   "outputs": [],
   "source": [
    "torch.save({'model': model.state_dict(),'optimizer': optimizer.state_dict()}, \"Attention_model.h5\")"
   ]
  },
  {
   "cell_type": "code",
   "execution_count": null,
   "metadata": {},
   "outputs": [],
   "source": [
    "idfilename_t = 'testing_data/id.txt'\n",
    "datadirname_t = 'testing_data/feat/'"
   ]
  },
  {
   "cell_type": "code",
   "execution_count": null,
   "metadata": {},
   "outputs": [],
   "source": [
    "#====================TESTING===================#\n",
    "BOS = \"<bos>\"\n",
    "EOS = \"<eos>\"\n",
    "PAD = \"<pad>\"\n",
    "UNK = \"<unk>\"\n",
    "\n",
    "\n",
    "\n",
    "TEST_SZ = 0\n",
    "# loading testing data\n",
    "\n",
    "encode_x = []\n",
    "video_id = {}\n",
    "for i,video_name in enumerate(open(idfilename_t)):\n",
    "    #lb contains '\\n', therefore lb[:-1]\n",
    "    video_name = video_name[:-1]\n",
    "    x = np.load(datadirname_t + video_name + \".npy\")\n",
    "    encode_x.append(x)\n",
    "    video_id[video_name] = i\n",
    "    TEST_SZ += 1\n",
    "\n",
    "TEST_SZ = len(encode_x)\n",
    "decode_x = [[DIC_word_index[BOS]]]*TEST_SZ\n",
    "decode_x = pad_post_zero(decode_x, MAX_SEQ_LEN)\n",
    "decode_x = to_categorical(decode_x, VOCAB_SZ)"
   ]
  },
  {
   "cell_type": "code",
   "execution_count": null,
   "metadata": {},
   "outputs": [],
   "source": [
    "datas = []\n",
    "for a,b in zip(decode_x, encode_x):\n",
    "    data = {}\n",
    "    data['decoder_x'] = a\n",
    "    data['encoder_x'] = b;\n",
    "    #0 for no reason, need to pass it without error \n",
    "    data['decoder_y'] = 0;\n",
    "    datas.append(data)"
   ]
  },
  {
   "cell_type": "code",
   "execution_count": null,
   "metadata": {},
   "outputs": [],
   "source": [
    "model.eval()\n",
    "#predict mode\n",
    "dataloader = torch.utils.data.DataLoader(datas, batch_size = batch_size, collate_fn=my_collate)\n",
    "predict_label = []\n",
    "ys_ =[]\n",
    "with torch.no_grad():\n",
    "    for batch in tqdm(dataloader):\n",
    "        image_feature = batch['encoder_x'].float().to(device)\n",
    "        sent = batch['decoder_x'].float().to(device)\n",
    "        batch_y_ = model.forward(image_feature, sent)\n",
    "        ys_.append(batch_y_)\n",
    "    ys_ = torch.cat(ys_, 0)\n"
   ]
  },
  {
   "cell_type": "code",
   "execution_count": null,
   "metadata": {},
   "outputs": [],
   "source": [
    "print(ys_.shape)\n",
    "#print(DIC_index_word)"
   ]
  },
  {
   "cell_type": "code",
   "execution_count": null,
   "metadata": {},
   "outputs": [],
   "source": [
    "with open('attention_predict_label.txt', 'w') as f:\n",
    "    for i,video_name in enumerate(open(idfilename_t)):\n",
    "        video_name = video_name[:-1]\n",
    "        tokens = to_words(ys_[i])      \n",
    "        predict = \" \".join(tokens)\n",
    "\n",
    "        if(predict[-1] == \".\"):\n",
    "            predict  = predict[:-1]\n",
    "        #print(OUTPUTS[int(_id)])\n",
    "        #input(\"\")\n",
    "        f.write(str(video_name) + \",\" + predict +\"\\n\")\n",
    "        print(str(video_name) + \",\" + predict +\"\\n\")\n"
   ]
  },
  {
   "cell_type": "code",
   "execution_count": null,
   "metadata": {},
   "outputs": [],
   "source": [
    "import os\n",
    "os.system(\"python bleu_eval.py attention_predict_label.txt\")"
   ]
  },
  {
   "cell_type": "code",
   "execution_count": null,
   "metadata": {},
   "outputs": [],
   "source": [
    "\n",
    "\n",
    "\n",
    "\n",
    "\n",
    "\n",
    "\n",
    "\n",
    "\n",
    "\n",
    "\n",
    "\n",
    "\n"
   ]
  }
 ],
 "metadata": {
  "kernelspec": {
   "display_name": "Python 3",
   "language": "python",
   "name": "python3"
  },
  "language_info": {
   "codemirror_mode": {
    "name": "ipython",
    "version": 3
   },
   "file_extension": ".py",
   "mimetype": "text/x-python",
   "name": "python",
   "nbconvert_exporter": "python",
   "pygments_lexer": "ipython3",
   "version": "3.7.2"
  }
 },
 "nbformat": 4,
 "nbformat_minor": 2
}
